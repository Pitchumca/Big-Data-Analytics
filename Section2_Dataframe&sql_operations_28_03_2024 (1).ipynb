{
  "nbformat": 4,
  "nbformat_minor": 0,
  "metadata": {
    "colab": {
      "provenance": []
    },
    "kernelspec": {
      "name": "python3",
      "display_name": "Python 3"
    },
    "language_info": {
      "name": "python"
    }
  },
  "cells": [
    {
      "cell_type": "code",
      "execution_count": null,
      "metadata": {
        "colab": {
          "base_uri": "https://localhost:8080/"
        },
        "id": "e0hE0TLXSaqJ",
        "outputId": "cae90add-de81-4aba-f997-4ab8f619a72d"
      },
      "outputs": [
        {
          "output_type": "stream",
          "name": "stdout",
          "text": [
            "Collecting pyspark\n",
            "  Downloading pyspark-3.5.1.tar.gz (317.0 MB)\n",
            "\u001b[2K     \u001b[90m━━━━━━━━━━━━━━━━━━━━━━━━━━━━━━━━━━━━━━━━\u001b[0m \u001b[32m317.0/317.0 MB\u001b[0m \u001b[31m2.0 MB/s\u001b[0m eta \u001b[36m0:00:00\u001b[0m\n",
            "\u001b[?25h  Preparing metadata (setup.py) ... \u001b[?25l\u001b[?25hdone\n",
            "Requirement already satisfied: py4j==0.10.9.7 in /usr/local/lib/python3.10/dist-packages (from pyspark) (0.10.9.7)\n",
            "Building wheels for collected packages: pyspark\n",
            "  Building wheel for pyspark (setup.py) ... \u001b[?25l\u001b[?25hdone\n",
            "  Created wheel for pyspark: filename=pyspark-3.5.1-py2.py3-none-any.whl size=317488491 sha256=9ca28e38bdfa7f843e5835c61c3488c706b951116da296edd807659782b7bb75\n",
            "  Stored in directory: /root/.cache/pip/wheels/80/1d/60/2c256ed38dddce2fdd93be545214a63e02fbd8d74fb0b7f3a6\n",
            "Successfully built pyspark\n",
            "Installing collected packages: pyspark\n",
            "Successfully installed pyspark-3.5.1\n"
          ]
        }
      ],
      "source": [
        "!pip install pyspark"
      ]
    },
    {
      "cell_type": "code",
      "source": [
        "from pyspark.sql import SparkSession\n",
        "from pyspark import SparkContext,SQLContext"
      ],
      "metadata": {
        "id": "7KdOu02hZyCH"
      },
      "execution_count": null,
      "outputs": []
    },
    {
      "cell_type": "code",
      "source": [
        "spark=SparkSession.builder.appName(\"Dataframe Demo\").getOrCreate()\n",
        "sc=SparkContext.getOrCreate()\n",
        "sqlContext=SQLContext(sc)"
      ],
      "metadata": {
        "colab": {
          "base_uri": "https://localhost:8080/"
        },
        "id": "56ks39oKaFaG",
        "outputId": "b036d8c5-4e22-450a-b3c2-8ef4d4414795"
      },
      "execution_count": null,
      "outputs": [
        {
          "output_type": "stream",
          "name": "stderr",
          "text": [
            "/usr/local/lib/python3.10/dist-packages/pyspark/sql/context.py:113: FutureWarning: Deprecated in 3.0.0. Use SparkSession.builder.getOrCreate() instead.\n",
            "  warnings.warn(\n"
          ]
        }
      ]
    },
    {
      "cell_type": "code",
      "source": [
        "data=sqlContext.read.options(mode=\"DROPMALFORMED\").json(\"/content/iris.json\")\n",
        "print(type(data))\n",
        "print(data.show())\n",
        "print(data.printSchema())"
      ],
      "metadata": {
        "colab": {
          "base_uri": "https://localhost:8080/"
        },
        "id": "dWFJHTFVbZRo",
        "outputId": "e51a7663-4cf7-4399-cb0a-37ccad20c69a"
      },
      "execution_count": null,
      "outputs": [
        {
          "output_type": "stream",
          "name": "stdout",
          "text": [
            "<class 'pyspark.sql.dataframe.DataFrame'>\n",
            "+-----------+----------+-----------+----------+-------+\n",
            "|petalLength|petalWidth|sepalLength|sepalWidth|species|\n",
            "+-----------+----------+-----------+----------+-------+\n",
            "|        1.4|       0.2|        5.1|       3.5| setosa|\n",
            "|        1.4|       0.2|        4.9|       3.0| setosa|\n",
            "|        1.3|       0.2|        4.7|       3.2| setosa|\n",
            "|        1.5|       0.2|        4.6|       3.1| setosa|\n",
            "|        1.4|       0.2|        5.0|       3.6| setosa|\n",
            "|        1.7|       0.4|        5.4|       3.9| setosa|\n",
            "|        1.4|       0.3|        4.6|       3.4| setosa|\n",
            "|        1.5|       0.2|        5.0|       3.4| setosa|\n",
            "|        1.4|       0.2|        4.4|       2.9| setosa|\n",
            "|        1.5|       0.1|        4.9|       3.1| setosa|\n",
            "|        1.5|       0.2|        5.4|       3.7| setosa|\n",
            "|        1.6|       0.2|        4.8|       3.4| setosa|\n",
            "|        1.4|       0.1|        4.8|       3.0| setosa|\n",
            "|        1.1|       0.1|        4.3|       3.0| setosa|\n",
            "|        1.2|       0.2|        5.8|       4.0| setosa|\n",
            "|        1.5|       0.4|        5.7|       4.4| setosa|\n",
            "|        1.3|       0.4|        5.4|       3.9| setosa|\n",
            "|        1.4|       0.3|        5.1|       3.5| setosa|\n",
            "|        1.7|       0.3|        5.7|       3.8| setosa|\n",
            "|        1.5|       0.3|        5.1|       3.8| setosa|\n",
            "+-----------+----------+-----------+----------+-------+\n",
            "only showing top 20 rows\n",
            "\n",
            "None\n",
            "root\n",
            " |-- petalLength: double (nullable = true)\n",
            " |-- petalWidth: double (nullable = true)\n",
            " |-- sepalLength: double (nullable = true)\n",
            " |-- sepalWidth: double (nullable = true)\n",
            " |-- species: string (nullable = true)\n",
            "\n",
            "None\n"
          ]
        }
      ]
    },
    {
      "cell_type": "code",
      "source": [
        "df=sqlContext.read.options(header=\"true\").csv(\"/content/movies.csv\")\n",
        "df.show()"
      ],
      "metadata": {
        "colab": {
          "base_uri": "https://localhost:8080/"
        },
        "id": "tcqwVYhPdMlO",
        "outputId": "4c683962-5b6c-4db2-cd9b-838431e6705c"
      },
      "execution_count": null,
      "outputs": [
        {
          "output_type": "stream",
          "name": "stdout",
          "text": [
            "+-------+--------------------+--------------------+\n",
            "|movieId|               title|              genres|\n",
            "+-------+--------------------+--------------------+\n",
            "|      1|    Toy Story (1995)|Adventure|Animati...|\n",
            "|      2|      Jumanji (1995)|Adventure|Childre...|\n",
            "|      3|Grumpier Old Men ...|      Comedy|Romance|\n",
            "|      4|Waiting to Exhale...|Comedy|Drama|Romance|\n",
            "|      5|Father of the Bri...|              Comedy|\n",
            "|      6|         Heat (1995)|Action|Crime|Thri...|\n",
            "|      7|      Sabrina (1995)|      Comedy|Romance|\n",
            "|      8| Tom and Huck (1995)|  Adventure|Children|\n",
            "|      9| Sudden Death (1995)|              Action|\n",
            "|     10|    GoldenEye (1995)|Action|Adventure|...|\n",
            "|     11|American Presiden...|Comedy|Drama|Romance|\n",
            "|     12|Dracula: Dead and...|       Comedy|Horror|\n",
            "|     13|        Balto (1995)|Adventure|Animati...|\n",
            "|     14|        Nixon (1995)|               Drama|\n",
            "|     15|Cutthroat Island ...|Action|Adventure|...|\n",
            "|     16|       Casino (1995)|         Crime|Drama|\n",
            "|     17|Sense and Sensibi...|       Drama|Romance|\n",
            "|     18|   Four Rooms (1995)|              Comedy|\n",
            "|     19|Ace Ventura: When...|              Comedy|\n",
            "|     20|  Money Train (1995)|Action|Comedy|Cri...|\n",
            "+-------+--------------------+--------------------+\n",
            "only showing top 20 rows\n",
            "\n"
          ]
        }
      ]
    },
    {
      "cell_type": "code",
      "source": [
        "rdd=sc.parallelize([(\"Tom\",25),(\"Bob\",30),(\"Alice\",13)])\n",
        "print(rdd.collect())\n",
        "#convert the rdd into DF\n",
        "df1=rdd.toDF([\"Name\",\"Age\"])\n",
        "df1.show()\n",
        "print(type(df1))"
      ],
      "metadata": {
        "colab": {
          "base_uri": "https://localhost:8080/"
        },
        "id": "Dtqe8maDdwkt",
        "outputId": "4aef617e-ce42-4e0d-ef76-52fe2cd4c532"
      },
      "execution_count": null,
      "outputs": [
        {
          "output_type": "stream",
          "name": "stdout",
          "text": [
            "[('Tom', 25), ('Bob', 30), ('Alice', 13)]\n",
            "+-----+---+\n",
            "| Name|Age|\n",
            "+-----+---+\n",
            "|  Tom| 25|\n",
            "|  Bob| 30|\n",
            "|Alice| 13|\n",
            "+-----+---+\n",
            "\n",
            "<class 'pyspark.sql.dataframe.DataFrame'>\n"
          ]
        }
      ]
    },
    {
      "cell_type": "code",
      "source": [
        "#dataframe which contains iris dataset\n",
        "#select(\"colname\")\n",
        "df=data.select(\"sepalLength\",\"sepalWidth\")\n",
        "df.show()"
      ],
      "metadata": {
        "colab": {
          "base_uri": "https://localhost:8080/"
        },
        "id": "dgK38aU6er7v",
        "outputId": "976624bd-9c97-4475-b7c4-e939b29e581f"
      },
      "execution_count": null,
      "outputs": [
        {
          "output_type": "stream",
          "name": "stdout",
          "text": [
            "+-----------+----------+\n",
            "|sepalLength|sepalWidth|\n",
            "+-----------+----------+\n",
            "|        5.1|       3.5|\n",
            "|        4.9|       3.0|\n",
            "|        4.7|       3.2|\n",
            "|        4.6|       3.1|\n",
            "|        5.0|       3.6|\n",
            "|        5.4|       3.9|\n",
            "|        4.6|       3.4|\n",
            "|        5.0|       3.4|\n",
            "|        4.4|       2.9|\n",
            "|        4.9|       3.1|\n",
            "|        5.4|       3.7|\n",
            "|        4.8|       3.4|\n",
            "|        4.8|       3.0|\n",
            "|        4.3|       3.0|\n",
            "|        5.8|       4.0|\n",
            "|        5.7|       4.4|\n",
            "|        5.4|       3.9|\n",
            "|        5.1|       3.5|\n",
            "|        5.7|       3.8|\n",
            "|        5.1|       3.8|\n",
            "+-----------+----------+\n",
            "only showing top 20 rows\n",
            "\n"
          ]
        }
      ]
    },
    {
      "cell_type": "code",
      "source": [
        "#select with expression\n",
        "#selectExpr(\"colname\", \"condition as new_colname\")\n",
        "df=data.selectExpr(\"sepalLength\",\"sepalLength > 5 as sepal_Length_cond\")\n",
        "df.show()"
      ],
      "metadata": {
        "colab": {
          "base_uri": "https://localhost:8080/"
        },
        "id": "q_IXp4uZfNu3",
        "outputId": "2686f038-f51c-4f77-80b4-04ceb5bde718"
      },
      "execution_count": null,
      "outputs": [
        {
          "output_type": "stream",
          "name": "stdout",
          "text": [
            "+-----------+-----------------+\n",
            "|sepalLength|sepal_Length_cond|\n",
            "+-----------+-----------------+\n",
            "|        5.1|             true|\n",
            "|        4.9|            false|\n",
            "|        4.7|            false|\n",
            "|        4.6|            false|\n",
            "|        5.0|            false|\n",
            "|        5.4|             true|\n",
            "|        4.6|            false|\n",
            "|        5.0|            false|\n",
            "|        4.4|            false|\n",
            "|        4.9|            false|\n",
            "|        5.4|             true|\n",
            "|        4.8|            false|\n",
            "|        4.8|            false|\n",
            "|        4.3|            false|\n",
            "|        5.8|             true|\n",
            "|        5.7|             true|\n",
            "|        5.4|             true|\n",
            "|        5.1|             true|\n",
            "|        5.7|             true|\n",
            "|        5.1|             true|\n",
            "+-----------+-----------------+\n",
            "only showing top 20 rows\n",
            "\n"
          ]
        }
      ]
    },
    {
      "cell_type": "code",
      "source": [
        "#create a new col. or update an existing col\n",
        "#withColumn(\"newcolumnnae\",lit(\"defaultvalue\"))\n",
        "from pyspark.sql.functions import lit\n",
        "df=data.withColumn(\"Survey_Date\",lit(\"2024-03-28\"))\n",
        "df.show()"
      ],
      "metadata": {
        "colab": {
          "base_uri": "https://localhost:8080/"
        },
        "id": "anZgJTkJf3mS",
        "outputId": "bbb2de24-6f4a-4a23-aeea-20688f6bd2bc"
      },
      "execution_count": null,
      "outputs": [
        {
          "output_type": "stream",
          "name": "stdout",
          "text": [
            "+-----------+----------+-----------+----------+-------+-----------+\n",
            "|petalLength|petalWidth|sepalLength|sepalWidth|species|Survey_Date|\n",
            "+-----------+----------+-----------+----------+-------+-----------+\n",
            "|        1.4|       0.2|        5.1|       3.5| setosa| 2024-03-28|\n",
            "|        1.4|       0.2|        4.9|       3.0| setosa| 2024-03-28|\n",
            "|        1.3|       0.2|        4.7|       3.2| setosa| 2024-03-28|\n",
            "|        1.5|       0.2|        4.6|       3.1| setosa| 2024-03-28|\n",
            "|        1.4|       0.2|        5.0|       3.6| setosa| 2024-03-28|\n",
            "|        1.7|       0.4|        5.4|       3.9| setosa| 2024-03-28|\n",
            "|        1.4|       0.3|        4.6|       3.4| setosa| 2024-03-28|\n",
            "|        1.5|       0.2|        5.0|       3.4| setosa| 2024-03-28|\n",
            "|        1.4|       0.2|        4.4|       2.9| setosa| 2024-03-28|\n",
            "|        1.5|       0.1|        4.9|       3.1| setosa| 2024-03-28|\n",
            "|        1.5|       0.2|        5.4|       3.7| setosa| 2024-03-28|\n",
            "|        1.6|       0.2|        4.8|       3.4| setosa| 2024-03-28|\n",
            "|        1.4|       0.1|        4.8|       3.0| setosa| 2024-03-28|\n",
            "|        1.1|       0.1|        4.3|       3.0| setosa| 2024-03-28|\n",
            "|        1.2|       0.2|        5.8|       4.0| setosa| 2024-03-28|\n",
            "|        1.5|       0.4|        5.7|       4.4| setosa| 2024-03-28|\n",
            "|        1.3|       0.4|        5.4|       3.9| setosa| 2024-03-28|\n",
            "|        1.4|       0.3|        5.1|       3.5| setosa| 2024-03-28|\n",
            "|        1.7|       0.3|        5.7|       3.8| setosa| 2024-03-28|\n",
            "|        1.5|       0.3|        5.1|       3.8| setosa| 2024-03-28|\n",
            "+-----------+----------+-----------+----------+-------+-----------+\n",
            "only showing top 20 rows\n",
            "\n"
          ]
        }
      ]
    },
    {
      "cell_type": "code",
      "source": [
        "#filter\n",
        "#it used to diplay the records for which the col satisfy a specific condition\n",
        "#display only rows which has sepalLength>5\n",
        "df=data.filter(\"sepalLength > 5\")\n",
        "df.show()"
      ],
      "metadata": {
        "colab": {
          "base_uri": "https://localhost:8080/"
        },
        "id": "qRWJM-hkglAJ",
        "outputId": "f68ca217-123e-47b1-922b-fb9715215309"
      },
      "execution_count": null,
      "outputs": [
        {
          "output_type": "stream",
          "name": "stdout",
          "text": [
            "+-----------+----------+-----------+----------+-------+\n",
            "|petalLength|petalWidth|sepalLength|sepalWidth|species|\n",
            "+-----------+----------+-----------+----------+-------+\n",
            "|        1.4|       0.2|        5.1|       3.5| setosa|\n",
            "|        1.7|       0.4|        5.4|       3.9| setosa|\n",
            "|        1.5|       0.2|        5.4|       3.7| setosa|\n",
            "|        1.2|       0.2|        5.8|       4.0| setosa|\n",
            "|        1.5|       0.4|        5.7|       4.4| setosa|\n",
            "|        1.3|       0.4|        5.4|       3.9| setosa|\n",
            "|        1.4|       0.3|        5.1|       3.5| setosa|\n",
            "|        1.7|       0.3|        5.7|       3.8| setosa|\n",
            "|        1.5|       0.3|        5.1|       3.8| setosa|\n",
            "|        1.7|       0.2|        5.4|       3.4| setosa|\n",
            "|        1.5|       0.4|        5.1|       3.7| setosa|\n",
            "|        1.7|       0.5|        5.1|       3.3| setosa|\n",
            "|        1.5|       0.2|        5.2|       3.5| setosa|\n",
            "|        1.4|       0.2|        5.2|       3.4| setosa|\n",
            "|        1.5|       0.4|        5.4|       3.4| setosa|\n",
            "|        1.5|       0.1|        5.2|       4.1| setosa|\n",
            "|        1.4|       0.2|        5.5|       4.2| setosa|\n",
            "|        1.3|       0.2|        5.5|       3.5| setosa|\n",
            "|        1.5|       0.2|        5.1|       3.4| setosa|\n",
            "|        1.9|       0.4|        5.1|       3.8| setosa|\n",
            "+-----------+----------+-----------+----------+-------+\n",
            "only showing top 20 rows\n",
            "\n"
          ]
        }
      ]
    },
    {
      "cell_type": "code",
      "source": [
        "#groupby with aggregate\n",
        "#max,avg\n",
        "df=data.groupBy(\"species\").count()\n",
        "df.show()\n",
        "df=data.groupBy(\"species\").min(\"sepalLength\")\n",
        "df.show()"
      ],
      "metadata": {
        "colab": {
          "base_uri": "https://localhost:8080/"
        },
        "id": "u2ldU-fyhJAY",
        "outputId": "e879c96e-9458-49d3-a5b1-d6b5a8ef64da"
      },
      "execution_count": null,
      "outputs": [
        {
          "output_type": "stream",
          "name": "stdout",
          "text": [
            "+----------+-----+\n",
            "|   species|count|\n",
            "+----------+-----+\n",
            "| virginica|   50|\n",
            "|versicolor|   50|\n",
            "|    setosa|   50|\n",
            "+----------+-----+\n",
            "\n",
            "+----------+----------------+\n",
            "|   species|min(sepalLength)|\n",
            "+----------+----------------+\n",
            "| virginica|             4.9|\n",
            "|versicolor|             4.9|\n",
            "|    setosa|             4.3|\n",
            "+----------+----------------+\n",
            "\n"
          ]
        }
      ]
    },
    {
      "cell_type": "code",
      "source": [
        "#count\n",
        "data.count()"
      ],
      "metadata": {
        "colab": {
          "base_uri": "https://localhost:8080/"
        },
        "id": "LYJ_p6sOhv9u",
        "outputId": "9495138e-37e5-4334-c986-4d51c0a619e1"
      },
      "execution_count": null,
      "outputs": [
        {
          "output_type": "execute_result",
          "data": {
            "text/plain": [
              "150"
            ]
          },
          "metadata": {},
          "execution_count": 15
        }
      ]
    },
    {
      "cell_type": "code",
      "source": [
        "#drop\n",
        "#drop the column Survey_Date in df\n",
        "df=data.drop(\"sepalLength\")\n",
        "df.show()"
      ],
      "metadata": {
        "colab": {
          "base_uri": "https://localhost:8080/"
        },
        "id": "tvdGLIeNglCn",
        "outputId": "0f354b36-3f46-4351-a731-38ae1a8c87d0"
      },
      "execution_count": null,
      "outputs": [
        {
          "output_type": "stream",
          "name": "stdout",
          "text": [
            "+-----------+----------+----------+-------+\n",
            "|petalLength|petalWidth|sepalWidth|species|\n",
            "+-----------+----------+----------+-------+\n",
            "|        1.4|       0.2|       3.5| setosa|\n",
            "|        1.4|       0.2|       3.0| setosa|\n",
            "|        1.3|       0.2|       3.2| setosa|\n",
            "|        1.5|       0.2|       3.1| setosa|\n",
            "|        1.4|       0.2|       3.6| setosa|\n",
            "|        1.7|       0.4|       3.9| setosa|\n",
            "|        1.4|       0.3|       3.4| setosa|\n",
            "|        1.5|       0.2|       3.4| setosa|\n",
            "|        1.4|       0.2|       2.9| setosa|\n",
            "|        1.5|       0.1|       3.1| setosa|\n",
            "|        1.5|       0.2|       3.7| setosa|\n",
            "|        1.6|       0.2|       3.4| setosa|\n",
            "|        1.4|       0.1|       3.0| setosa|\n",
            "|        1.1|       0.1|       3.0| setosa|\n",
            "|        1.2|       0.2|       4.0| setosa|\n",
            "|        1.5|       0.4|       4.4| setosa|\n",
            "|        1.3|       0.4|       3.9| setosa|\n",
            "|        1.4|       0.3|       3.5| setosa|\n",
            "|        1.7|       0.3|       3.8| setosa|\n",
            "|        1.5|       0.3|       3.8| setosa|\n",
            "+-----------+----------+----------+-------+\n",
            "only showing top 20 rows\n",
            "\n"
          ]
        }
      ]
    },
    {
      "cell_type": "code",
      "source": [
        "movie=sqlContext.read.options(header=\"true\").csv(\"/content/movies.csv\")\n",
        "movie.show()\n",
        "rating=sqlContext.read.options(header=\"true\").csv(\"/content/ratings.csv\")\n",
        "rating.show()"
      ],
      "metadata": {
        "colab": {
          "base_uri": "https://localhost:8080/"
        },
        "id": "zDlklfkkkfdf",
        "outputId": "8bc7c34b-9f84-48b5-99f5-4f7b4b647541"
      },
      "execution_count": null,
      "outputs": [
        {
          "output_type": "stream",
          "name": "stdout",
          "text": [
            "+-------+--------------------+--------------------+\n",
            "|movieId|               title|              genres|\n",
            "+-------+--------------------+--------------------+\n",
            "|      1|    Toy Story (1995)|Adventure|Animati...|\n",
            "|      2|      Jumanji (1995)|Adventure|Childre...|\n",
            "|      3|Grumpier Old Men ...|      Comedy|Romance|\n",
            "|      4|Waiting to Exhale...|Comedy|Drama|Romance|\n",
            "|      5|Father of the Bri...|              Comedy|\n",
            "|      6|         Heat (1995)|Action|Crime|Thri...|\n",
            "|      7|      Sabrina (1995)|      Comedy|Romance|\n",
            "|      8| Tom and Huck (1995)|  Adventure|Children|\n",
            "|      9| Sudden Death (1995)|              Action|\n",
            "|     10|    GoldenEye (1995)|Action|Adventure|...|\n",
            "|     11|American Presiden...|Comedy|Drama|Romance|\n",
            "|     12|Dracula: Dead and...|       Comedy|Horror|\n",
            "|     13|        Balto (1995)|Adventure|Animati...|\n",
            "|     14|        Nixon (1995)|               Drama|\n",
            "|     15|Cutthroat Island ...|Action|Adventure|...|\n",
            "|     16|       Casino (1995)|         Crime|Drama|\n",
            "|     17|Sense and Sensibi...|       Drama|Romance|\n",
            "|     18|   Four Rooms (1995)|              Comedy|\n",
            "|     19|Ace Ventura: When...|              Comedy|\n",
            "|     20|  Money Train (1995)|Action|Comedy|Cri...|\n",
            "+-------+--------------------+--------------------+\n",
            "only showing top 20 rows\n",
            "\n",
            "+------+-------+------+----------+\n",
            "|userId|movieId|rating| timestamp|\n",
            "+------+-------+------+----------+\n",
            "|     1|      2|   3.5|1112486027|\n",
            "|     1|     29|   3.5|1112484676|\n",
            "|     1|     32|   3.5|1112484819|\n",
            "|     1|     47|   3.5|1112484727|\n",
            "|     1|     50|   3.5|1112484580|\n",
            "|     1|    112|   3.5|1094785740|\n",
            "|     1|    151|   4.0|1094785734|\n",
            "|     1|    223|   4.0|1112485573|\n",
            "|     1|    253|   4.0|1112484940|\n",
            "|     1|    260|   4.0|1112484826|\n",
            "|     1|    293|   4.0|1112484703|\n",
            "|     1|    296|   4.0|1112484767|\n",
            "|     1|    318|   4.0|1112484798|\n",
            "|     1|    337|   3.5|1094785709|\n",
            "|     1|    367|   3.5|1112485980|\n",
            "|     1|    541|   4.0|1112484603|\n",
            "|     1|    589|   3.5|1112485557|\n",
            "|     1|    593|   3.5|1112484661|\n",
            "|     1|    653|   3.0|1094785691|\n",
            "|     1|    919|   3.5|1094785621|\n",
            "+------+-------+------+----------+\n",
            "only showing top 20 rows\n",
            "\n"
          ]
        }
      ]
    },
    {
      "cell_type": "code",
      "source": [
        "#inner join\n",
        "df_join=movie.join(rating,movie.movieId==rating.movieId,\"inner\")\n",
        "df_join.show()"
      ],
      "metadata": {
        "colab": {
          "base_uri": "https://localhost:8080/"
        },
        "id": "yKGa39KPlIIQ",
        "outputId": "274119b8-068e-415e-a680-52a99e4805b5"
      },
      "execution_count": null,
      "outputs": [
        {
          "output_type": "stream",
          "name": "stdout",
          "text": [
            "+-------+--------------------+--------------------+------+-------+------+----------+\n",
            "|movieId|               title|              genres|userId|movieId|rating| timestamp|\n",
            "+-------+--------------------+--------------------+------+-------+------+----------+\n",
            "|      2|      Jumanji (1995)|Adventure|Childre...|     1|      2|   3.5|1112486027|\n",
            "|     29|City of Lost Chil...|Adventure|Drama|F...|     1|     29|   3.5|1112484676|\n",
            "|     32|Twelve Monkeys (a...|Mystery|Sci-Fi|Th...|     1|     32|   3.5|1112484819|\n",
            "|     47|Seven (a.k.a. Se7...|    Mystery|Thriller|     1|     47|   3.5|1112484727|\n",
            "|     50|Usual Suspects, T...|Crime|Mystery|Thr...|     1|     50|   3.5|1112484580|\n",
            "|    112|Rumble in the Bro...|Action|Adventure|...|     1|    112|   3.5|1094785740|\n",
            "|    151|      Rob Roy (1995)|Action|Drama|Roma...|     1|    151|   4.0|1094785734|\n",
            "|    223|       Clerks (1994)|              Comedy|     1|    223|   4.0|1112485573|\n",
            "|    253|Interview with th...|        Drama|Horror|     1|    253|   4.0|1112484940|\n",
            "|    260|Star Wars: Episod...|Action|Adventure|...|     1|    260|   4.0|1112484826|\n",
            "|    293|Léon: The Profess...|Action|Crime|Dram...|     1|    293|   4.0|1112484703|\n",
            "|    296| Pulp Fiction (1994)|Comedy|Crime|Dram...|     1|    296|   4.0|1112484767|\n",
            "|    318|Shawshank Redempt...|         Crime|Drama|     1|    318|   4.0|1112484798|\n",
            "|    337|What's Eating Gil...|               Drama|     1|    337|   3.5|1094785709|\n",
            "|    367|    Mask, The (1994)|Action|Comedy|Cri...|     1|    367|   3.5|1112485980|\n",
            "|    541| Blade Runner (1982)|Action|Sci-Fi|Thr...|     1|    541|   4.0|1112484603|\n",
            "|    589|Terminator 2: Jud...|       Action|Sci-Fi|     1|    589|   3.5|1112485557|\n",
            "|    593|Silence of the La...|Crime|Horror|Thri...|     1|    593|   3.5|1112484661|\n",
            "|    653|  Dragonheart (1996)|Action|Adventure|...|     1|    653|   3.0|1094785691|\n",
            "|    919|Wizard of Oz, The...|Adventure|Childre...|     1|    919|   3.5|1094785621|\n",
            "+-------+--------------------+--------------------+------+-------+------+----------+\n",
            "only showing top 20 rows\n",
            "\n"
          ]
        }
      ]
    },
    {
      "cell_type": "code",
      "source": [
        "#leftOuterJoin\n",
        "df_join=movie.join(rating,movie.movieId==rating.movieId,\"left\")\n",
        "df_join.show()"
      ],
      "metadata": {
        "colab": {
          "base_uri": "https://localhost:8080/"
        },
        "id": "7GuM3eXGlc1p",
        "outputId": "b086d86b-a806-48ab-ffdb-30c8c9a0fbee"
      },
      "execution_count": null,
      "outputs": [
        {
          "output_type": "stream",
          "name": "stdout",
          "text": [
            "+-------+--------------------+--------------------+------+-------+------+----------+\n",
            "|movieId|               title|              genres|userId|movieId|rating| timestamp|\n",
            "+-------+--------------------+--------------------+------+-------+------+----------+\n",
            "|     11|American Presiden...|Comedy|Drama|Romance|     5|     11|   5.0| 851527751|\n",
            "|     11|American Presiden...|Comedy|Drama|Romance|     7|     11|   4.0|1011207889|\n",
            "|     11|American Presiden...|Comedy|Drama|Romance|    10|     11|   4.0| 943497660|\n",
            "|     11|American Presiden...|Comedy|Drama|Romance|    13|     11|   4.0| 849082685|\n",
            "|     11|American Presiden...|Comedy|Drama|Romance|    15|     11|   3.0| 840207537|\n",
            "|     11|American Presiden...|Comedy|Drama|Romance|    27|     11|   4.0|1112243785|\n",
            "|     11|American Presiden...|Comedy|Drama|Romance|    29|     11|   4.0| 835562132|\n",
            "|     11|American Presiden...|Comedy|Drama|Romance|    38|     11|   4.0| 835718201|\n",
            "|     11|American Presiden...|Comedy|Drama|Romance|    40|     11|   3.0| 940853434|\n",
            "|     11|American Presiden...|Comedy|Drama|Romance|    46|     11|   4.0| 846354547|\n",
            "|     11|American Presiden...|Comedy|Drama|Romance|    54|     11|   5.0| 974840528|\n",
            "|     11|American Presiden...|Comedy|Drama|Romance|    56|     11|   3.0| 967240622|\n",
            "|     11|American Presiden...|Comedy|Drama|Romance|    58|     11|   4.5|1144058674|\n",
            "|     11|American Presiden...|Comedy|Drama|Romance|    69|     11|   3.0| 866812438|\n",
            "|     11|American Presiden...|Comedy|Drama|Romance|    87|     11|   3.0| 831889948|\n",
            "|     11|American Presiden...|Comedy|Drama|Romance|    91|     11|   4.0|1121673675|\n",
            "|     11|American Presiden...|Comedy|Drama|Romance|   101|     11|   4.0| 836325638|\n",
            "|     11|American Presiden...|Comedy|Drama|Romance|   116|     11|   2.0|1132761815|\n",
            "|     11|American Presiden...|Comedy|Drama|Romance|   120|     11|   3.0| 838153413|\n",
            "|     11|American Presiden...|Comedy|Drama|Romance|   130|     11|   3.0| 853581643|\n",
            "+-------+--------------------+--------------------+------+-------+------+----------+\n",
            "only showing top 20 rows\n",
            "\n"
          ]
        }
      ]
    },
    {
      "cell_type": "code",
      "source": [
        "#rightOuterJoin\n",
        "df_join=movie.join(rating,movie.movieId==rating.movieId,\"right\")\n",
        "df_join.show()\n",
        "#fullouterjoin\n",
        "df_join=movie.join(rating,movie.movieId==rating.movieId,\"full\")\n",
        "df_join.show()\n",
        "#semi join\n",
        "df_join=movie.join(rating,movie.movieId==rating.movieId,\"semi\")\n",
        "df_join.show()\n",
        "#anti join\n",
        "df_join=movie.join(rating,movie.movieId==rating.movieId,\"anti\")\n",
        "df_join.show()\n",
        "#cross join\n",
        "df_join=movie.crossJoin(rating)\n",
        "df_join.show()"
      ],
      "metadata": {
        "colab": {
          "base_uri": "https://localhost:8080/"
        },
        "id": "KqBbRNUAlx2t",
        "outputId": "a4b4972f-63b3-43bc-9249-93f669fa34e1"
      },
      "execution_count": null,
      "outputs": [
        {
          "output_type": "stream",
          "name": "stdout",
          "text": [
            "+-------+--------------------+--------------------+------+-------+------+----------+\n",
            "|movieId|               title|              genres|userId|movieId|rating| timestamp|\n",
            "+-------+--------------------+--------------------+------+-------+------+----------+\n",
            "|      2|      Jumanji (1995)|Adventure|Childre...|     1|      2|   3.5|1112486027|\n",
            "|     29|City of Lost Chil...|Adventure|Drama|F...|     1|     29|   3.5|1112484676|\n",
            "|     32|Twelve Monkeys (a...|Mystery|Sci-Fi|Th...|     1|     32|   3.5|1112484819|\n",
            "|     47|Seven (a.k.a. Se7...|    Mystery|Thriller|     1|     47|   3.5|1112484727|\n",
            "|     50|Usual Suspects, T...|Crime|Mystery|Thr...|     1|     50|   3.5|1112484580|\n",
            "|    112|Rumble in the Bro...|Action|Adventure|...|     1|    112|   3.5|1094785740|\n",
            "|    151|      Rob Roy (1995)|Action|Drama|Roma...|     1|    151|   4.0|1094785734|\n",
            "|    223|       Clerks (1994)|              Comedy|     1|    223|   4.0|1112485573|\n",
            "|    253|Interview with th...|        Drama|Horror|     1|    253|   4.0|1112484940|\n",
            "|    260|Star Wars: Episod...|Action|Adventure|...|     1|    260|   4.0|1112484826|\n",
            "|    293|Léon: The Profess...|Action|Crime|Dram...|     1|    293|   4.0|1112484703|\n",
            "|    296| Pulp Fiction (1994)|Comedy|Crime|Dram...|     1|    296|   4.0|1112484767|\n",
            "|    318|Shawshank Redempt...|         Crime|Drama|     1|    318|   4.0|1112484798|\n",
            "|    337|What's Eating Gil...|               Drama|     1|    337|   3.5|1094785709|\n",
            "|    367|    Mask, The (1994)|Action|Comedy|Cri...|     1|    367|   3.5|1112485980|\n",
            "|    541| Blade Runner (1982)|Action|Sci-Fi|Thr...|     1|    541|   4.0|1112484603|\n",
            "|    589|Terminator 2: Jud...|       Action|Sci-Fi|     1|    589|   3.5|1112485557|\n",
            "|    593|Silence of the La...|Crime|Horror|Thri...|     1|    593|   3.5|1112484661|\n",
            "|    653|  Dragonheart (1996)|Action|Adventure|...|     1|    653|   3.0|1094785691|\n",
            "|    919|Wizard of Oz, The...|Adventure|Childre...|     1|    919|   3.5|1094785621|\n",
            "+-------+--------------------+--------------------+------+-------+------+----------+\n",
            "only showing top 20 rows\n",
            "\n",
            "+-------+--------------------+-------------+------+-------+------+----------+\n",
            "|movieId|               title|       genres|userId|movieId|rating| timestamp|\n",
            "+-------+--------------------+-------------+------+-------+------+----------+\n",
            "| 100008|    Flaw, The (2011)|  Documentary|  9454| 100008|   4.0|1400687389|\n",
            "| 100008|    Flaw, The (2011)|  Documentary| 21398| 100008|   4.0|1358823364|\n",
            "| 100008|    Flaw, The (2011)|  Documentary| 23841| 100008|   3.0|1372807509|\n",
            "| 100008|    Flaw, The (2011)|  Documentary| 27053| 100008|   3.0|1358922494|\n",
            "| 100008|    Flaw, The (2011)|  Documentary| 51558| 100008|   3.0|1422833166|\n",
            "| 100010|Battle of Los Ang...|Action|Sci-Fi|  4347| 100010|   3.0|1401248862|\n",
            "| 100010|Battle of Los Ang...|Action|Sci-Fi|  5352| 100010|   3.5|1370748924|\n",
            "| 100010|Battle of Los Ang...|Action|Sci-Fi| 12131| 100010|   1.5|1398369060|\n",
            "| 100010|Battle of Los Ang...|Action|Sci-Fi| 16693| 100010|   3.5|1362460350|\n",
            "| 100010|Battle of Los Ang...|Action|Sci-Fi| 20180| 100010|   1.0|1424294683|\n",
            "| 100010|Battle of Los Ang...|Action|Sci-Fi| 24994| 100010|   4.0|1424470787|\n",
            "| 100010|Battle of Los Ang...|Action|Sci-Fi| 30507| 100010|   3.0|1426354157|\n",
            "| 100010|Battle of Los Ang...|Action|Sci-Fi| 41267| 100010|   2.0|1358884501|\n",
            "| 100010|Battle of Los Ang...|Action|Sci-Fi| 44101| 100010|   2.0|1405989405|\n",
            "| 100010|Battle of Los Ang...|Action|Sci-Fi| 46470| 100010|   3.0|1405613890|\n",
            "| 100010|Battle of Los Ang...|Action|Sci-Fi| 49817| 100010|   3.0|1395061487|\n",
            "| 100010|Battle of Los Ang...|Action|Sci-Fi| 53478| 100010|   4.0|1394292232|\n",
            "| 100010|Battle of Los Ang...|Action|Sci-Fi| 61728| 100010|   5.0|1384358024|\n",
            "| 100010|Battle of Los Ang...|Action|Sci-Fi| 67075| 100010|   0.5|1358824137|\n",
            "| 100010|Battle of Los Ang...|Action|Sci-Fi| 73026| 100010|   2.5|1358891139|\n",
            "+-------+--------------------+-------------+------+-------+------+----------+\n",
            "only showing top 20 rows\n",
            "\n",
            "+-------+--------------------+--------------------+\n",
            "|movieId|               title|              genres|\n",
            "+-------+--------------------+--------------------+\n",
            "|    100|    City Hall (1996)|      Drama|Thriller|\n",
            "|   1000|      Curdled (1996)|               Crime|\n",
            "| 100003|  Up in Smoke (1957)|              Comedy|\n",
            "| 100006|First Daughter (1...|Comedy|Romance|Th...|\n",
            "| 100008|    Flaw, The (2011)|         Documentary|\n",
            "| 100010|Battle of Los Ang...|       Action|Sci-Fi|\n",
            "| 100015|Chicago Massacre:...|Crime|Drama|Thriller|\n",
            "| 100040|   True Blue (2001) |Crime|Drama|Thriller|\n",
            "| 100042|Guns of Fort Pett...|         War|Western|\n",
            "| 100046|   Madagascar (2011)|         Documentary|\n",
            "| 100054| Stella Maris (1918)|               Drama|\n",
            "| 100058|Patrice O'Neal: E...|              Comedy|\n",
            "| 100060|Sunny (Sseo-ni) (...|               Drama|\n",
            "| 100062|My Way (Mai Wei) ...|    Action|Drama|War|\n",
            "| 100068|Comme un chef (2012)|              Comedy|\n",
            "| 100070|Punching the Clow...|              Comedy|\n",
            "| 100075|       Choose (2010)|  Crime|Drama|Horror|\n",
            "| 100083|     Movie 43 (2013)|              Comedy|\n",
            "| 100087|Night of the Demo...|              Horror|\n",
            "| 100089|Star Wars Uncut: ...|Action|Animation|...|\n",
            "+-------+--------------------+--------------------+\n",
            "only showing top 20 rows\n",
            "\n",
            "+-------+--------------------+-----------------+\n",
            "|movieId|               title|           genres|\n",
            "+-------+--------------------+-----------------+\n",
            "| 100072|Metsän tarina (2012)|      Documentary|\n",
            "| 100081|Bad Luck (Zezowat...|           Comedy|\n",
            "| 100183|Portrait of Wally...|      Documentary|\n",
            "| 100222|God Save My Shoes...|      Documentary|\n",
            "| 100257|Confessions from ...|           Comedy|\n",
            "| 100275|       Return (2011)|            Drama|\n",
            "| 100291|Ballplayer: Pelot...|Documentary|Drama|\n",
            "| 100296|Den sommeren jeg ...|            Drama|\n",
            "| 100298|Erotic Man, The (...|            Drama|\n",
            "| 100300|Wszystko, co koch...|     Comedy|Drama|\n",
            "| 100312|On the Edge (Hak ...|      Crime|Drama|\n",
            "| 100332|Land, The (Al-ard...|            Drama|\n",
            "| 100519|A.K.A. Don Bonus ...|      Documentary|\n",
            "| 100534|In the Edges: The...|      Documentary|\n",
            "| 100583|Arnulf Rainer (1960)|      Documentary|\n",
            "| 100585|Above the Street,...|            Drama|\n",
            "| 100655|Cost of Oil: Voic...|      Documentary|\n",
            "| 100719|Fake It So Real (...|      Documentary|\n",
            "| 100727|      Heroine (2012)|            Drama|\n",
            "| 100838|   I Am Jesus (2011)|      Documentary|\n",
            "+-------+--------------------+-----------------+\n",
            "only showing top 20 rows\n",
            "\n",
            "+-------+--------------------+--------------------+------+-------+------+----------+\n",
            "|movieId|               title|              genres|userId|movieId|rating| timestamp|\n",
            "+-------+--------------------+--------------------+------+-------+------+----------+\n",
            "|      1|    Toy Story (1995)|Adventure|Animati...|     1|      2|   3.5|1112486027|\n",
            "|      2|      Jumanji (1995)|Adventure|Childre...|     1|      2|   3.5|1112486027|\n",
            "|      3|Grumpier Old Men ...|      Comedy|Romance|     1|      2|   3.5|1112486027|\n",
            "|      4|Waiting to Exhale...|Comedy|Drama|Romance|     1|      2|   3.5|1112486027|\n",
            "|      5|Father of the Bri...|              Comedy|     1|      2|   3.5|1112486027|\n",
            "|      6|         Heat (1995)|Action|Crime|Thri...|     1|      2|   3.5|1112486027|\n",
            "|      7|      Sabrina (1995)|      Comedy|Romance|     1|      2|   3.5|1112486027|\n",
            "|      8| Tom and Huck (1995)|  Adventure|Children|     1|      2|   3.5|1112486027|\n",
            "|      9| Sudden Death (1995)|              Action|     1|      2|   3.5|1112486027|\n",
            "|     10|    GoldenEye (1995)|Action|Adventure|...|     1|      2|   3.5|1112486027|\n",
            "|     11|American Presiden...|Comedy|Drama|Romance|     1|      2|   3.5|1112486027|\n",
            "|     12|Dracula: Dead and...|       Comedy|Horror|     1|      2|   3.5|1112486027|\n",
            "|     13|        Balto (1995)|Adventure|Animati...|     1|      2|   3.5|1112486027|\n",
            "|     14|        Nixon (1995)|               Drama|     1|      2|   3.5|1112486027|\n",
            "|     15|Cutthroat Island ...|Action|Adventure|...|     1|      2|   3.5|1112486027|\n",
            "|     16|       Casino (1995)|         Crime|Drama|     1|      2|   3.5|1112486027|\n",
            "|     17|Sense and Sensibi...|       Drama|Romance|     1|      2|   3.5|1112486027|\n",
            "|     18|   Four Rooms (1995)|              Comedy|     1|      2|   3.5|1112486027|\n",
            "|     19|Ace Ventura: When...|              Comedy|     1|      2|   3.5|1112486027|\n",
            "|     20|  Money Train (1995)|Action|Comedy|Cri...|     1|      2|   3.5|1112486027|\n",
            "+-------+--------------------+--------------------+------+-------+------+----------+\n",
            "only showing top 20 rows\n",
            "\n"
          ]
        }
      ]
    },
    {
      "cell_type": "code",
      "source": [
        "from pyspark.sql.functions import col\n",
        "df_join=movie.alias(\"m1\").join(movie.alias(\"m2\"),col(\"m1.movieId\")==col(\"m2.movieId\"),\"inner\")\n",
        "df_join.show()"
      ],
      "metadata": {
        "colab": {
          "base_uri": "https://localhost:8080/"
        },
        "id": "oPdcNV0gnAll",
        "outputId": "b49c5197-17ca-4e95-c71e-972508d58f10"
      },
      "execution_count": null,
      "outputs": [
        {
          "output_type": "stream",
          "name": "stdout",
          "text": [
            "+-------+--------------------+--------------------+-------+--------------------+--------------------+\n",
            "|movieId|               title|              genres|movieId|               title|              genres|\n",
            "+-------+--------------------+--------------------+-------+--------------------+--------------------+\n",
            "|      1|    Toy Story (1995)|Adventure|Animati...|      1|    Toy Story (1995)|Adventure|Animati...|\n",
            "|      2|      Jumanji (1995)|Adventure|Childre...|      2|      Jumanji (1995)|Adventure|Childre...|\n",
            "|      3|Grumpier Old Men ...|      Comedy|Romance|      3|Grumpier Old Men ...|      Comedy|Romance|\n",
            "|      4|Waiting to Exhale...|Comedy|Drama|Romance|      4|Waiting to Exhale...|Comedy|Drama|Romance|\n",
            "|      5|Father of the Bri...|              Comedy|      5|Father of the Bri...|              Comedy|\n",
            "|      6|         Heat (1995)|Action|Crime|Thri...|      6|         Heat (1995)|Action|Crime|Thri...|\n",
            "|      7|      Sabrina (1995)|      Comedy|Romance|      7|      Sabrina (1995)|      Comedy|Romance|\n",
            "|      8| Tom and Huck (1995)|  Adventure|Children|      8| Tom and Huck (1995)|  Adventure|Children|\n",
            "|      9| Sudden Death (1995)|              Action|      9| Sudden Death (1995)|              Action|\n",
            "|     10|    GoldenEye (1995)|Action|Adventure|...|     10|    GoldenEye (1995)|Action|Adventure|...|\n",
            "|     11|American Presiden...|Comedy|Drama|Romance|     11|American Presiden...|Comedy|Drama|Romance|\n",
            "|     12|Dracula: Dead and...|       Comedy|Horror|     12|Dracula: Dead and...|       Comedy|Horror|\n",
            "|     13|        Balto (1995)|Adventure|Animati...|     13|        Balto (1995)|Adventure|Animati...|\n",
            "|     14|        Nixon (1995)|               Drama|     14|        Nixon (1995)|               Drama|\n",
            "|     15|Cutthroat Island ...|Action|Adventure|...|     15|Cutthroat Island ...|Action|Adventure|...|\n",
            "|     16|       Casino (1995)|         Crime|Drama|     16|       Casino (1995)|         Crime|Drama|\n",
            "|     17|Sense and Sensibi...|       Drama|Romance|     17|Sense and Sensibi...|       Drama|Romance|\n",
            "|     18|   Four Rooms (1995)|              Comedy|     18|   Four Rooms (1995)|              Comedy|\n",
            "|     19|Ace Ventura: When...|              Comedy|     19|Ace Ventura: When...|              Comedy|\n",
            "|     20|  Money Train (1995)|Action|Comedy|Cri...|     20|  Money Train (1995)|Action|Comedy|Cri...|\n",
            "+-------+--------------------+--------------------+-------+--------------------+--------------------+\n",
            "only showing top 20 rows\n",
            "\n"
          ]
        }
      ]
    },
    {
      "cell_type": "code",
      "source": [
        "#distinct\n",
        "data.show()"
      ],
      "metadata": {
        "colab": {
          "base_uri": "https://localhost:8080/"
        },
        "id": "JSRemb_RoNdV",
        "outputId": "e37861cf-e5a5-41cb-b036-5dd54415f112"
      },
      "execution_count": null,
      "outputs": [
        {
          "output_type": "stream",
          "name": "stdout",
          "text": [
            "+-----------+----------+-----------+----------+-------+\n",
            "|petalLength|petalWidth|sepalLength|sepalWidth|species|\n",
            "+-----------+----------+-----------+----------+-------+\n",
            "|        1.4|       0.2|        5.1|       3.5| setosa|\n",
            "|        1.4|       0.2|        4.9|       3.0| setosa|\n",
            "|        1.3|       0.2|        4.7|       3.2| setosa|\n",
            "|        1.5|       0.2|        4.6|       3.1| setosa|\n",
            "|        1.4|       0.2|        5.0|       3.6| setosa|\n",
            "|        1.7|       0.4|        5.4|       3.9| setosa|\n",
            "|        1.4|       0.3|        4.6|       3.4| setosa|\n",
            "|        1.5|       0.2|        5.0|       3.4| setosa|\n",
            "|        1.4|       0.2|        4.4|       2.9| setosa|\n",
            "|        1.5|       0.1|        4.9|       3.1| setosa|\n",
            "|        1.5|       0.2|        5.4|       3.7| setosa|\n",
            "|        1.6|       0.2|        4.8|       3.4| setosa|\n",
            "|        1.4|       0.1|        4.8|       3.0| setosa|\n",
            "|        1.1|       0.1|        4.3|       3.0| setosa|\n",
            "|        1.2|       0.2|        5.8|       4.0| setosa|\n",
            "|        1.5|       0.4|        5.7|       4.4| setosa|\n",
            "|        1.3|       0.4|        5.4|       3.9| setosa|\n",
            "|        1.4|       0.3|        5.1|       3.5| setosa|\n",
            "|        1.7|       0.3|        5.7|       3.8| setosa|\n",
            "|        1.5|       0.3|        5.1|       3.8| setosa|\n",
            "+-----------+----------+-----------+----------+-------+\n",
            "only showing top 20 rows\n",
            "\n"
          ]
        }
      ]
    },
    {
      "cell_type": "code",
      "source": [
        "data.select(\"sepalLength\").distinct().count()"
      ],
      "metadata": {
        "colab": {
          "base_uri": "https://localhost:8080/"
        },
        "id": "XS07eYTboesv",
        "outputId": "9f6c2e0c-3c54-435f-d2a5-5a2df2f4aeca"
      },
      "execution_count": null,
      "outputs": [
        {
          "output_type": "execute_result",
          "data": {
            "text/plain": [
              "35"
            ]
          },
          "metadata": {},
          "execution_count": 31
        }
      ]
    },
    {
      "cell_type": "code",
      "source": [
        "#how to convert DataFrame to RDD\n",
        "df_rdd=data.rdd\n",
        "print(df_rdd.collect())"
      ],
      "metadata": {
        "colab": {
          "base_uri": "https://localhost:8080/"
        },
        "id": "Fr4EGqlCo5Jo",
        "outputId": "cf9c2195-3c8e-4f8c-f24b-03ab7c66d460"
      },
      "execution_count": null,
      "outputs": [
        {
          "output_type": "stream",
          "name": "stdout",
          "text": [
            "[Row(petalLength=1.4, petalWidth=0.2, sepalLength=5.1, sepalWidth=3.5, species='setosa'), Row(petalLength=1.4, petalWidth=0.2, sepalLength=4.9, sepalWidth=3.0, species='setosa'), Row(petalLength=1.3, petalWidth=0.2, sepalLength=4.7, sepalWidth=3.2, species='setosa'), Row(petalLength=1.5, petalWidth=0.2, sepalLength=4.6, sepalWidth=3.1, species='setosa'), Row(petalLength=1.4, petalWidth=0.2, sepalLength=5.0, sepalWidth=3.6, species='setosa'), Row(petalLength=1.7, petalWidth=0.4, sepalLength=5.4, sepalWidth=3.9, species='setosa'), Row(petalLength=1.4, petalWidth=0.3, sepalLength=4.6, sepalWidth=3.4, species='setosa'), Row(petalLength=1.5, petalWidth=0.2, sepalLength=5.0, sepalWidth=3.4, species='setosa'), Row(petalLength=1.4, petalWidth=0.2, sepalLength=4.4, sepalWidth=2.9, species='setosa'), Row(petalLength=1.5, petalWidth=0.1, sepalLength=4.9, sepalWidth=3.1, species='setosa'), Row(petalLength=1.5, petalWidth=0.2, sepalLength=5.4, sepalWidth=3.7, species='setosa'), Row(petalLength=1.6, petalWidth=0.2, sepalLength=4.8, sepalWidth=3.4, species='setosa'), Row(petalLength=1.4, petalWidth=0.1, sepalLength=4.8, sepalWidth=3.0, species='setosa'), Row(petalLength=1.1, petalWidth=0.1, sepalLength=4.3, sepalWidth=3.0, species='setosa'), Row(petalLength=1.2, petalWidth=0.2, sepalLength=5.8, sepalWidth=4.0, species='setosa'), Row(petalLength=1.5, petalWidth=0.4, sepalLength=5.7, sepalWidth=4.4, species='setosa'), Row(petalLength=1.3, petalWidth=0.4, sepalLength=5.4, sepalWidth=3.9, species='setosa'), Row(petalLength=1.4, petalWidth=0.3, sepalLength=5.1, sepalWidth=3.5, species='setosa'), Row(petalLength=1.7, petalWidth=0.3, sepalLength=5.7, sepalWidth=3.8, species='setosa'), Row(petalLength=1.5, petalWidth=0.3, sepalLength=5.1, sepalWidth=3.8, species='setosa'), Row(petalLength=1.7, petalWidth=0.2, sepalLength=5.4, sepalWidth=3.4, species='setosa'), Row(petalLength=1.5, petalWidth=0.4, sepalLength=5.1, sepalWidth=3.7, species='setosa'), Row(petalLength=1.0, petalWidth=0.2, sepalLength=4.6, sepalWidth=3.6, species='setosa'), Row(petalLength=1.7, petalWidth=0.5, sepalLength=5.1, sepalWidth=3.3, species='setosa'), Row(petalLength=1.9, petalWidth=0.2, sepalLength=4.8, sepalWidth=3.4, species='setosa'), Row(petalLength=1.6, petalWidth=0.2, sepalLength=5.0, sepalWidth=3.0, species='setosa'), Row(petalLength=1.6, petalWidth=0.4, sepalLength=5.0, sepalWidth=3.4, species='setosa'), Row(petalLength=1.5, petalWidth=0.2, sepalLength=5.2, sepalWidth=3.5, species='setosa'), Row(petalLength=1.4, petalWidth=0.2, sepalLength=5.2, sepalWidth=3.4, species='setosa'), Row(petalLength=1.6, petalWidth=0.2, sepalLength=4.7, sepalWidth=3.2, species='setosa'), Row(petalLength=1.6, petalWidth=0.2, sepalLength=4.8, sepalWidth=3.1, species='setosa'), Row(petalLength=1.5, petalWidth=0.4, sepalLength=5.4, sepalWidth=3.4, species='setosa'), Row(petalLength=1.5, petalWidth=0.1, sepalLength=5.2, sepalWidth=4.1, species='setosa'), Row(petalLength=1.4, petalWidth=0.2, sepalLength=5.5, sepalWidth=4.2, species='setosa'), Row(petalLength=1.5, petalWidth=0.2, sepalLength=4.9, sepalWidth=3.1, species='setosa'), Row(petalLength=1.2, petalWidth=0.2, sepalLength=5.0, sepalWidth=3.2, species='setosa'), Row(petalLength=1.3, petalWidth=0.2, sepalLength=5.5, sepalWidth=3.5, species='setosa'), Row(petalLength=1.4, petalWidth=0.1, sepalLength=4.9, sepalWidth=3.6, species='setosa'), Row(petalLength=1.3, petalWidth=0.2, sepalLength=4.4, sepalWidth=3.0, species='setosa'), Row(petalLength=1.5, petalWidth=0.2, sepalLength=5.1, sepalWidth=3.4, species='setosa'), Row(petalLength=1.3, petalWidth=0.3, sepalLength=5.0, sepalWidth=3.5, species='setosa'), Row(petalLength=1.3, petalWidth=0.3, sepalLength=4.5, sepalWidth=2.3, species='setosa'), Row(petalLength=1.3, petalWidth=0.2, sepalLength=4.4, sepalWidth=3.2, species='setosa'), Row(petalLength=1.6, petalWidth=0.6, sepalLength=5.0, sepalWidth=3.5, species='setosa'), Row(petalLength=1.9, petalWidth=0.4, sepalLength=5.1, sepalWidth=3.8, species='setosa'), Row(petalLength=1.4, petalWidth=0.3, sepalLength=4.8, sepalWidth=3.0, species='setosa'), Row(petalLength=1.6, petalWidth=0.2, sepalLength=5.1, sepalWidth=3.8, species='setosa'), Row(petalLength=1.4, petalWidth=0.2, sepalLength=4.6, sepalWidth=3.2, species='setosa'), Row(petalLength=1.5, petalWidth=0.2, sepalLength=5.3, sepalWidth=3.7, species='setosa'), Row(petalLength=1.4, petalWidth=0.2, sepalLength=5.0, sepalWidth=3.3, species='setosa'), Row(petalLength=4.7, petalWidth=1.4, sepalLength=7.0, sepalWidth=3.2, species='versicolor'), Row(petalLength=4.5, petalWidth=1.5, sepalLength=6.4, sepalWidth=3.2, species='versicolor'), Row(petalLength=4.9, petalWidth=1.5, sepalLength=6.9, sepalWidth=3.1, species='versicolor'), Row(petalLength=4.0, petalWidth=1.3, sepalLength=5.5, sepalWidth=2.3, species='versicolor'), Row(petalLength=4.6, petalWidth=1.5, sepalLength=6.5, sepalWidth=2.8, species='versicolor'), Row(petalLength=4.5, petalWidth=1.3, sepalLength=5.7, sepalWidth=2.8, species='versicolor'), Row(petalLength=4.7, petalWidth=1.6, sepalLength=6.3, sepalWidth=3.3, species='versicolor'), Row(petalLength=3.3, petalWidth=1.0, sepalLength=4.9, sepalWidth=2.4, species='versicolor'), Row(petalLength=4.6, petalWidth=1.3, sepalLength=6.6, sepalWidth=2.9, species='versicolor'), Row(petalLength=3.9, petalWidth=1.4, sepalLength=5.2, sepalWidth=2.7, species='versicolor'), Row(petalLength=3.5, petalWidth=1.0, sepalLength=5.0, sepalWidth=2.0, species='versicolor'), Row(petalLength=4.2, petalWidth=1.5, sepalLength=5.9, sepalWidth=3.0, species='versicolor'), Row(petalLength=4.0, petalWidth=1.0, sepalLength=6.0, sepalWidth=2.2, species='versicolor'), Row(petalLength=4.7, petalWidth=1.4, sepalLength=6.1, sepalWidth=2.9, species='versicolor'), Row(petalLength=3.6, petalWidth=1.3, sepalLength=5.6, sepalWidth=2.9, species='versicolor'), Row(petalLength=4.4, petalWidth=1.4, sepalLength=6.7, sepalWidth=3.1, species='versicolor'), Row(petalLength=4.5, petalWidth=1.5, sepalLength=5.6, sepalWidth=3.0, species='versicolor'), Row(petalLength=4.1, petalWidth=1.0, sepalLength=5.8, sepalWidth=2.7, species='versicolor'), Row(petalLength=4.5, petalWidth=1.5, sepalLength=6.2, sepalWidth=2.2, species='versicolor'), Row(petalLength=3.9, petalWidth=1.1, sepalLength=5.6, sepalWidth=2.5, species='versicolor'), Row(petalLength=4.8, petalWidth=1.8, sepalLength=5.9, sepalWidth=3.2, species='versicolor'), Row(petalLength=4.0, petalWidth=1.3, sepalLength=6.1, sepalWidth=2.8, species='versicolor'), Row(petalLength=4.9, petalWidth=1.5, sepalLength=6.3, sepalWidth=2.5, species='versicolor'), Row(petalLength=4.7, petalWidth=1.2, sepalLength=6.1, sepalWidth=2.8, species='versicolor'), Row(petalLength=4.3, petalWidth=1.3, sepalLength=6.4, sepalWidth=2.9, species='versicolor'), Row(petalLength=4.4, petalWidth=1.4, sepalLength=6.6, sepalWidth=3.0, species='versicolor'), Row(petalLength=4.8, petalWidth=1.4, sepalLength=6.8, sepalWidth=2.8, species='versicolor'), Row(petalLength=5.0, petalWidth=1.7, sepalLength=6.7, sepalWidth=3.0, species='versicolor'), Row(petalLength=4.5, petalWidth=1.5, sepalLength=6.0, sepalWidth=2.9, species='versicolor'), Row(petalLength=3.5, petalWidth=1.0, sepalLength=5.7, sepalWidth=2.6, species='versicolor'), Row(petalLength=3.8, petalWidth=1.1, sepalLength=5.5, sepalWidth=2.4, species='versicolor'), Row(petalLength=3.7, petalWidth=1.0, sepalLength=5.5, sepalWidth=2.4, species='versicolor'), Row(petalLength=3.9, petalWidth=1.2, sepalLength=5.8, sepalWidth=2.7, species='versicolor'), Row(petalLength=5.1, petalWidth=1.6, sepalLength=6.0, sepalWidth=2.7, species='versicolor'), Row(petalLength=4.5, petalWidth=1.5, sepalLength=5.4, sepalWidth=3.0, species='versicolor'), Row(petalLength=4.5, petalWidth=1.6, sepalLength=6.0, sepalWidth=3.4, species='versicolor'), Row(petalLength=4.7, petalWidth=1.5, sepalLength=6.7, sepalWidth=3.1, species='versicolor'), Row(petalLength=4.4, petalWidth=1.3, sepalLength=6.3, sepalWidth=2.3, species='versicolor'), Row(petalLength=4.1, petalWidth=1.3, sepalLength=5.6, sepalWidth=3.0, species='versicolor'), Row(petalLength=4.0, petalWidth=1.3, sepalLength=5.5, sepalWidth=2.5, species='versicolor'), Row(petalLength=4.4, petalWidth=1.2, sepalLength=5.5, sepalWidth=2.6, species='versicolor'), Row(petalLength=4.6, petalWidth=1.4, sepalLength=6.1, sepalWidth=3.0, species='versicolor'), Row(petalLength=4.0, petalWidth=1.2, sepalLength=5.8, sepalWidth=2.6, species='versicolor'), Row(petalLength=3.3, petalWidth=1.0, sepalLength=5.0, sepalWidth=2.3, species='versicolor'), Row(petalLength=4.2, petalWidth=1.3, sepalLength=5.6, sepalWidth=2.7, species='versicolor'), Row(petalLength=4.2, petalWidth=1.2, sepalLength=5.7, sepalWidth=3.0, species='versicolor'), Row(petalLength=4.2, petalWidth=1.3, sepalLength=5.7, sepalWidth=2.9, species='versicolor'), Row(petalLength=4.3, petalWidth=1.3, sepalLength=6.2, sepalWidth=2.9, species='versicolor'), Row(petalLength=3.0, petalWidth=1.1, sepalLength=5.1, sepalWidth=2.5, species='versicolor'), Row(petalLength=4.1, petalWidth=1.3, sepalLength=5.7, sepalWidth=2.8, species='versicolor'), Row(petalLength=6.0, petalWidth=2.5, sepalLength=6.3, sepalWidth=3.3, species='virginica'), Row(petalLength=5.1, petalWidth=1.9, sepalLength=5.8, sepalWidth=2.7, species='virginica'), Row(petalLength=5.9, petalWidth=2.1, sepalLength=7.1, sepalWidth=3.0, species='virginica'), Row(petalLength=5.6, petalWidth=1.8, sepalLength=6.3, sepalWidth=2.9, species='virginica'), Row(petalLength=5.8, petalWidth=2.2, sepalLength=6.5, sepalWidth=3.0, species='virginica'), Row(petalLength=6.6, petalWidth=2.1, sepalLength=7.6, sepalWidth=3.0, species='virginica'), Row(petalLength=4.5, petalWidth=1.7, sepalLength=4.9, sepalWidth=2.5, species='virginica'), Row(petalLength=6.3, petalWidth=1.8, sepalLength=7.3, sepalWidth=2.9, species='virginica'), Row(petalLength=5.8, petalWidth=1.8, sepalLength=6.7, sepalWidth=2.5, species='virginica'), Row(petalLength=6.1, petalWidth=2.5, sepalLength=7.2, sepalWidth=3.6, species='virginica'), Row(petalLength=5.1, petalWidth=2.0, sepalLength=6.5, sepalWidth=3.2, species='virginica'), Row(petalLength=5.3, petalWidth=1.9, sepalLength=6.4, sepalWidth=2.7, species='virginica'), Row(petalLength=5.5, petalWidth=2.1, sepalLength=6.8, sepalWidth=3.0, species='virginica'), Row(petalLength=5.0, petalWidth=2.0, sepalLength=5.7, sepalWidth=2.5, species='virginica'), Row(petalLength=5.1, petalWidth=2.4, sepalLength=5.8, sepalWidth=2.8, species='virginica'), Row(petalLength=5.3, petalWidth=2.3, sepalLength=6.4, sepalWidth=3.2, species='virginica'), Row(petalLength=5.5, petalWidth=1.8, sepalLength=6.5, sepalWidth=3.0, species='virginica'), Row(petalLength=6.7, petalWidth=2.2, sepalLength=7.7, sepalWidth=3.8, species='virginica'), Row(petalLength=6.9, petalWidth=2.3, sepalLength=7.7, sepalWidth=2.6, species='virginica'), Row(petalLength=5.0, petalWidth=1.5, sepalLength=6.0, sepalWidth=2.2, species='virginica'), Row(petalLength=5.7, petalWidth=2.3, sepalLength=6.9, sepalWidth=3.2, species='virginica'), Row(petalLength=4.9, petalWidth=2.0, sepalLength=5.6, sepalWidth=2.8, species='virginica'), Row(petalLength=6.7, petalWidth=2.0, sepalLength=7.7, sepalWidth=2.8, species='virginica'), Row(petalLength=4.9, petalWidth=1.8, sepalLength=6.3, sepalWidth=2.7, species='virginica'), Row(petalLength=5.7, petalWidth=2.1, sepalLength=6.7, sepalWidth=3.3, species='virginica'), Row(petalLength=6.0, petalWidth=1.8, sepalLength=7.2, sepalWidth=3.2, species='virginica'), Row(petalLength=4.8, petalWidth=1.8, sepalLength=6.2, sepalWidth=2.8, species='virginica'), Row(petalLength=4.9, petalWidth=1.8, sepalLength=6.1, sepalWidth=3.0, species='virginica'), Row(petalLength=5.6, petalWidth=2.1, sepalLength=6.4, sepalWidth=2.8, species='virginica'), Row(petalLength=5.8, petalWidth=1.6, sepalLength=7.2, sepalWidth=3.0, species='virginica'), Row(petalLength=6.1, petalWidth=1.9, sepalLength=7.4, sepalWidth=2.8, species='virginica'), Row(petalLength=6.4, petalWidth=2.0, sepalLength=7.9, sepalWidth=3.8, species='virginica'), Row(petalLength=5.6, petalWidth=2.2, sepalLength=6.4, sepalWidth=2.8, species='virginica'), Row(petalLength=5.1, petalWidth=1.5, sepalLength=6.3, sepalWidth=2.8, species='virginica'), Row(petalLength=5.6, petalWidth=1.4, sepalLength=6.1, sepalWidth=2.6, species='virginica'), Row(petalLength=6.1, petalWidth=2.3, sepalLength=7.7, sepalWidth=3.0, species='virginica'), Row(petalLength=5.6, petalWidth=2.4, sepalLength=6.3, sepalWidth=3.4, species='virginica'), Row(petalLength=5.5, petalWidth=1.8, sepalLength=6.4, sepalWidth=3.1, species='virginica'), Row(petalLength=4.8, petalWidth=1.8, sepalLength=6.0, sepalWidth=3.0, species='virginica'), Row(petalLength=5.4, petalWidth=2.1, sepalLength=6.9, sepalWidth=3.1, species='virginica'), Row(petalLength=5.6, petalWidth=2.4, sepalLength=6.7, sepalWidth=3.1, species='virginica'), Row(petalLength=5.1, petalWidth=2.3, sepalLength=6.9, sepalWidth=3.1, species='virginica'), Row(petalLength=5.1, petalWidth=1.9, sepalLength=5.8, sepalWidth=2.7, species='virginica'), Row(petalLength=5.9, petalWidth=2.3, sepalLength=6.8, sepalWidth=3.2, species='virginica'), Row(petalLength=5.7, petalWidth=2.5, sepalLength=6.7, sepalWidth=3.3, species='virginica'), Row(petalLength=5.2, petalWidth=2.3, sepalLength=6.7, sepalWidth=3.0, species='virginica'), Row(petalLength=5.0, petalWidth=1.9, sepalLength=6.3, sepalWidth=2.5, species='virginica'), Row(petalLength=5.2, petalWidth=2.0, sepalLength=6.5, sepalWidth=3.0, species='virginica'), Row(petalLength=5.4, petalWidth=2.3, sepalLength=6.2, sepalWidth=3.4, species='virginica'), Row(petalLength=5.1, petalWidth=1.8, sepalLength=5.9, sepalWidth=3.0, species='virginica')]\n"
          ]
        }
      ]
    },
    {
      "cell_type": "code",
      "source": [
        "from pyspark.sql import functions as fun\n",
        "data.groupBy(\"species\").agg(fun.avg(\"petalLength\")).show()"
      ],
      "metadata": {
        "colab": {
          "base_uri": "https://localhost:8080/"
        },
        "id": "bLECDyyNpXgm",
        "outputId": "22d314b5-5290-4923-a42f-6a9e61b864c8"
      },
      "execution_count": null,
      "outputs": [
        {
          "output_type": "stream",
          "name": "stdout",
          "text": [
            "+----------+------------------+\n",
            "|   species|  avg(petalLength)|\n",
            "+----------+------------------+\n",
            "| virginica|             5.552|\n",
            "|versicolor|              4.26|\n",
            "|    setosa|1.4620000000000002|\n",
            "+----------+------------------+\n",
            "\n"
          ]
        }
      ]
    },
    {
      "cell_type": "code",
      "source": [
        "#user defined function using udf\n",
        "from pyspark.sql.functions import udf\n",
        "from pyspark.sql.types import StringType\n",
        "l=[(\"Tom\",45),(\"Alice\",30),(\"John\",15)]\n",
        "data=sqlContext.createDataFrame(l,[\"Name\",\"Age\"])\n",
        "data.show()\n",
        "maturity_udf=udf(lambda age:\"Adult\" if age > 18 else \"Child\",StringType())\n",
        "new_df=data.withColumn(\"Maturity\",maturity_udf(data.Age))\n",
        "new_df.show()"
      ],
      "metadata": {
        "colab": {
          "base_uri": "https://localhost:8080/"
        },
        "id": "LQHCBVuHqSL0",
        "outputId": "b90dcbff-1c66-465f-beb8-bac655133633"
      },
      "execution_count": null,
      "outputs": [
        {
          "output_type": "stream",
          "name": "stdout",
          "text": [
            "+-----+---+\n",
            "| Name|Age|\n",
            "+-----+---+\n",
            "|  Tom| 45|\n",
            "|Alice| 30|\n",
            "| John| 15|\n",
            "+-----+---+\n",
            "\n",
            "+-----+---+--------+\n",
            "| Name|Age|Maturity|\n",
            "+-----+---+--------+\n",
            "|  Tom| 45|   Adult|\n",
            "|Alice| 30|   Adult|\n",
            "| John| 15|   Child|\n",
            "+-----+---+--------+\n",
            "\n"
          ]
        }
      ]
    },
    {
      "cell_type": "code",
      "source": [
        "#Top K Queries\n",
        "\n",
        "rating.orderBy(\"rating\",ascending=False).limit(5).show()"
      ],
      "metadata": {
        "colab": {
          "base_uri": "https://localhost:8080/"
        },
        "id": "gC1LfMonsSbd",
        "outputId": "c18c9769-27a2-402a-9aad-112fdc1cf7de"
      },
      "execution_count": null,
      "outputs": [
        {
          "output_type": "stream",
          "name": "stdout",
          "text": [
            "+------+-------+------+----------+\n",
            "|userId|movieId|rating| timestamp|\n",
            "+------+-------+------+----------+\n",
            "| 35128|   5287|   5.0|1031583587|\n",
            "| 70568|    260|   5.0|1142392251|\n",
            "|     1|   8507|   5.0|1094786027|\n",
            "| 70568|    527|   5.0|1142392243|\n",
            "| 35128|   5294|   5.0|1031147460|\n",
            "+------+-------+------+----------+\n",
            "\n"
          ]
        }
      ]
    },
    {
      "cell_type": "code",
      "source": [
        "data.show()"
      ],
      "metadata": {
        "colab": {
          "base_uri": "https://localhost:8080/"
        },
        "id": "0Kmv6O_71rNw",
        "outputId": "5f606d23-1198-49f3-a424-67ada08e4106"
      },
      "execution_count": null,
      "outputs": [
        {
          "output_type": "stream",
          "name": "stdout",
          "text": [
            "+-----+---+\n",
            "| Name|Age|\n",
            "+-----+---+\n",
            "|  Tom| 45|\n",
            "|Alice| 30|\n",
            "| John| 15|\n",
            "+-----+---+\n",
            "\n"
          ]
        }
      ]
    },
    {
      "cell_type": "code",
      "source": [
        "data=sqlContext.read.options(mode=\"DROPMALFORMED\").json(\"/content/iris.json\")\n",
        "data.show()"
      ],
      "metadata": {
        "colab": {
          "base_uri": "https://localhost:8080/"
        },
        "id": "85hpPRaK1zT3",
        "outputId": "7357ba49-a6d6-439d-bedb-bef861d5c6d6"
      },
      "execution_count": null,
      "outputs": [
        {
          "output_type": "stream",
          "name": "stdout",
          "text": [
            "+-----------+----------+-----------+----------+-------+\n",
            "|petalLength|petalWidth|sepalLength|sepalWidth|species|\n",
            "+-----------+----------+-----------+----------+-------+\n",
            "|        1.4|       0.2|        5.1|       3.5| setosa|\n",
            "|        1.4|       0.2|        4.9|       3.0| setosa|\n",
            "|        1.3|       0.2|        4.7|       3.2| setosa|\n",
            "|        1.5|       0.2|        4.6|       3.1| setosa|\n",
            "|        1.4|       0.2|        5.0|       3.6| setosa|\n",
            "|        1.7|       0.4|        5.4|       3.9| setosa|\n",
            "|        1.4|       0.3|        4.6|       3.4| setosa|\n",
            "|        1.5|       0.2|        5.0|       3.4| setosa|\n",
            "|        1.4|       0.2|        4.4|       2.9| setosa|\n",
            "|        1.5|       0.1|        4.9|       3.1| setosa|\n",
            "|        1.5|       0.2|        5.4|       3.7| setosa|\n",
            "|        1.6|       0.2|        4.8|       3.4| setosa|\n",
            "|        1.4|       0.1|        4.8|       3.0| setosa|\n",
            "|        1.1|       0.1|        4.3|       3.0| setosa|\n",
            "|        1.2|       0.2|        5.8|       4.0| setosa|\n",
            "|        1.5|       0.4|        5.7|       4.4| setosa|\n",
            "|        1.3|       0.4|        5.4|       3.9| setosa|\n",
            "|        1.4|       0.3|        5.1|       3.5| setosa|\n",
            "|        1.7|       0.3|        5.7|       3.8| setosa|\n",
            "|        1.5|       0.3|        5.1|       3.8| setosa|\n",
            "+-----------+----------+-----------+----------+-------+\n",
            "only showing top 20 rows\n",
            "\n"
          ]
        }
      ]
    },
    {
      "cell_type": "code",
      "source": [
        "#convert dataframe into sql table\n",
        "#dataframe.createOrReplaceTempView(\"table_name\")\n",
        "data.createOrReplaceTempView(\"iris_table\")"
      ],
      "metadata": {
        "id": "FHZiReMI2ESv"
      },
      "execution_count": null,
      "outputs": []
    },
    {
      "cell_type": "code",
      "source": [
        "#select command\n",
        "result=spark.sql(\"select * from iris_table\")\n",
        "result.show()"
      ],
      "metadata": {
        "colab": {
          "base_uri": "https://localhost:8080/"
        },
        "id": "sDp8FuLF2eVe",
        "outputId": "307e091a-c336-4daa-c585-01192236c8f4"
      },
      "execution_count": null,
      "outputs": [
        {
          "output_type": "stream",
          "name": "stdout",
          "text": [
            "+-----------+----------+-----------+----------+-------+\n",
            "|petalLength|petalWidth|sepalLength|sepalWidth|species|\n",
            "+-----------+----------+-----------+----------+-------+\n",
            "|        1.4|       0.2|        5.1|       3.5| setosa|\n",
            "|        1.4|       0.2|        4.9|       3.0| setosa|\n",
            "|        1.3|       0.2|        4.7|       3.2| setosa|\n",
            "|        1.5|       0.2|        4.6|       3.1| setosa|\n",
            "|        1.4|       0.2|        5.0|       3.6| setosa|\n",
            "|        1.7|       0.4|        5.4|       3.9| setosa|\n",
            "|        1.4|       0.3|        4.6|       3.4| setosa|\n",
            "|        1.5|       0.2|        5.0|       3.4| setosa|\n",
            "|        1.4|       0.2|        4.4|       2.9| setosa|\n",
            "|        1.5|       0.1|        4.9|       3.1| setosa|\n",
            "|        1.5|       0.2|        5.4|       3.7| setosa|\n",
            "|        1.6|       0.2|        4.8|       3.4| setosa|\n",
            "|        1.4|       0.1|        4.8|       3.0| setosa|\n",
            "|        1.1|       0.1|        4.3|       3.0| setosa|\n",
            "|        1.2|       0.2|        5.8|       4.0| setosa|\n",
            "|        1.5|       0.4|        5.7|       4.4| setosa|\n",
            "|        1.3|       0.4|        5.4|       3.9| setosa|\n",
            "|        1.4|       0.3|        5.1|       3.5| setosa|\n",
            "|        1.7|       0.3|        5.7|       3.8| setosa|\n",
            "|        1.5|       0.3|        5.1|       3.8| setosa|\n",
            "+-----------+----------+-----------+----------+-------+\n",
            "only showing top 20 rows\n",
            "\n"
          ]
        }
      ]
    },
    {
      "cell_type": "code",
      "source": [
        "#select command based on condition\n",
        "#and / or to combine two conditions\n",
        "result=spark.sql(\"select * from iris_table where sepalLength>6 and petalLength>6\")\n",
        "result.show()"
      ],
      "metadata": {
        "colab": {
          "base_uri": "https://localhost:8080/"
        },
        "id": "-1t1jLrS3R2I",
        "outputId": "5de95ebf-687e-45d6-fff0-a6fd503bd7b7"
      },
      "execution_count": null,
      "outputs": [
        {
          "output_type": "stream",
          "name": "stdout",
          "text": [
            "+-----------+----------+-----------+----------+---------+\n",
            "|petalLength|petalWidth|sepalLength|sepalWidth|  species|\n",
            "+-----------+----------+-----------+----------+---------+\n",
            "|        6.6|       2.1|        7.6|       3.0|virginica|\n",
            "|        6.3|       1.8|        7.3|       2.9|virginica|\n",
            "|        6.1|       2.5|        7.2|       3.6|virginica|\n",
            "|        6.7|       2.2|        7.7|       3.8|virginica|\n",
            "|        6.9|       2.3|        7.7|       2.6|virginica|\n",
            "|        6.7|       2.0|        7.7|       2.8|virginica|\n",
            "|        6.1|       1.9|        7.4|       2.8|virginica|\n",
            "|        6.4|       2.0|        7.9|       3.8|virginica|\n",
            "|        6.1|       2.3|        7.7|       3.0|virginica|\n",
            "+-----------+----------+-----------+----------+---------+\n",
            "\n"
          ]
        }
      ]
    },
    {
      "cell_type": "code",
      "source": [
        "#groupby along with aggregate functions\n",
        "#select column1,aggregate(col2) from table_name group by column1\n",
        "result=spark.sql(\"select species,avg(sepalLength) from iris_table group by species\")\n",
        "result.show()"
      ],
      "metadata": {
        "colab": {
          "base_uri": "https://localhost:8080/"
        },
        "id": "r3ATeP_z310M",
        "outputId": "fe27d0b3-acf4-425f-efa8-be365632c5d6"
      },
      "execution_count": null,
      "outputs": [
        {
          "output_type": "stream",
          "name": "stdout",
          "text": [
            "+----------+-----------------+\n",
            "|   species| avg(sepalLength)|\n",
            "+----------+-----------------+\n",
            "| virginica|6.587999999999998|\n",
            "|versicolor|            5.936|\n",
            "|    setosa|5.005999999999999|\n",
            "+----------+-----------------+\n",
            "\n"
          ]
        }
      ]
    },
    {
      "cell_type": "code",
      "source": [
        "#order by\n",
        "#to sort the rows based on one or more column\n",
        "result=spark.sql(\"select * from iris_table order by species desc\")\n",
        "result.show()"
      ],
      "metadata": {
        "colab": {
          "base_uri": "https://localhost:8080/"
        },
        "id": "KeCP40yY412u",
        "outputId": "5b704ed5-3d2a-4405-de58-43f251aabc48"
      },
      "execution_count": null,
      "outputs": [
        {
          "output_type": "stream",
          "name": "stdout",
          "text": [
            "+-----------+----------+-----------+----------+---------+\n",
            "|petalLength|petalWidth|sepalLength|sepalWidth|  species|\n",
            "+-----------+----------+-----------+----------+---------+\n",
            "|        6.0|       2.5|        6.3|       3.3|virginica|\n",
            "|        5.7|       2.3|        6.9|       3.2|virginica|\n",
            "|        5.1|       1.9|        5.8|       2.7|virginica|\n",
            "|        5.9|       2.1|        7.1|       3.0|virginica|\n",
            "|        5.6|       1.8|        6.3|       2.9|virginica|\n",
            "|        5.8|       2.2|        6.5|       3.0|virginica|\n",
            "|        6.6|       2.1|        7.6|       3.0|virginica|\n",
            "|        4.5|       1.7|        4.9|       2.5|virginica|\n",
            "|        6.3|       1.8|        7.3|       2.9|virginica|\n",
            "|        5.8|       1.8|        6.7|       2.5|virginica|\n",
            "|        6.1|       2.5|        7.2|       3.6|virginica|\n",
            "|        5.1|       2.0|        6.5|       3.2|virginica|\n",
            "|        5.3|       1.9|        6.4|       2.7|virginica|\n",
            "|        5.5|       2.1|        6.8|       3.0|virginica|\n",
            "|        5.0|       2.0|        5.7|       2.5|virginica|\n",
            "|        5.1|       2.4|        5.8|       2.8|virginica|\n",
            "|        5.3|       2.3|        6.4|       3.2|virginica|\n",
            "|        5.5|       1.8|        6.5|       3.0|virginica|\n",
            "|        6.7|       2.2|        7.7|       3.8|virginica|\n",
            "|        6.9|       2.3|        7.7|       2.6|virginica|\n",
            "+-----------+----------+-----------+----------+---------+\n",
            "only showing top 20 rows\n",
            "\n"
          ]
        }
      ]
    },
    {
      "cell_type": "code",
      "source": [
        "#limit used to restrict the number of rows\n",
        "result=spark.sql(\"select * from iris_table limit 5\")\n",
        "result.show()"
      ],
      "metadata": {
        "colab": {
          "base_uri": "https://localhost:8080/"
        },
        "id": "TCivYFZD5UhT",
        "outputId": "59bdce8a-3c36-4823-fd87-52a390eb7a92"
      },
      "execution_count": null,
      "outputs": [
        {
          "output_type": "stream",
          "name": "stdout",
          "text": [
            "+-----------+----------+-----------+----------+-------+\n",
            "|petalLength|petalWidth|sepalLength|sepalWidth|species|\n",
            "+-----------+----------+-----------+----------+-------+\n",
            "|        1.4|       0.2|        5.1|       3.5| setosa|\n",
            "|        1.4|       0.2|        4.9|       3.0| setosa|\n",
            "|        1.3|       0.2|        4.7|       3.2| setosa|\n",
            "|        1.5|       0.2|        4.6|       3.1| setosa|\n",
            "|        1.4|       0.2|        5.0|       3.6| setosa|\n",
            "+-----------+----------+-----------+----------+-------+\n",
            "\n"
          ]
        }
      ]
    },
    {
      "cell_type": "code",
      "source": [
        "#use functions inside sql upper,lower,length\n",
        "result=spark.sql(\"select upper(species) from iris_table\")\n",
        "result.show()\n"
      ],
      "metadata": {
        "colab": {
          "base_uri": "https://localhost:8080/"
        },
        "id": "8IRs2GoQ50Ij",
        "outputId": "0c91999c-36fb-4f6f-f3ca-7d6b15f3aff1"
      },
      "execution_count": null,
      "outputs": [
        {
          "output_type": "stream",
          "name": "stdout",
          "text": [
            "+--------------+\n",
            "|upper(species)|\n",
            "+--------------+\n",
            "|        SETOSA|\n",
            "|        SETOSA|\n",
            "|        SETOSA|\n",
            "|        SETOSA|\n",
            "|        SETOSA|\n",
            "|        SETOSA|\n",
            "|        SETOSA|\n",
            "|        SETOSA|\n",
            "|        SETOSA|\n",
            "|        SETOSA|\n",
            "|        SETOSA|\n",
            "|        SETOSA|\n",
            "|        SETOSA|\n",
            "|        SETOSA|\n",
            "|        SETOSA|\n",
            "|        SETOSA|\n",
            "|        SETOSA|\n",
            "|        SETOSA|\n",
            "|        SETOSA|\n",
            "|        SETOSA|\n",
            "+--------------+\n",
            "only showing top 20 rows\n",
            "\n"
          ]
        }
      ]
    },
    {
      "cell_type": "code",
      "source": [
        "#inner join\n",
        "movie.createOrReplaceTempView(\"movie_table\")\n",
        "rating.createOrReplaceTempView(\"rating_table\")\n",
        "result=spark.sql(\"select * from movie_table inner join rating_table on movie_table.movieId=rating_table.movieId\")\n",
        "result.show()"
      ],
      "metadata": {
        "colab": {
          "base_uri": "https://localhost:8080/"
        },
        "id": "AwxmEB6p6LZv",
        "outputId": "412b008e-557c-4b87-9e62-4ab80f3d6452"
      },
      "execution_count": null,
      "outputs": [
        {
          "output_type": "stream",
          "name": "stdout",
          "text": [
            "+-------+--------------------+--------------------+------+-------+------+----------+\n",
            "|movieId|               title|              genres|userId|movieId|rating| timestamp|\n",
            "+-------+--------------------+--------------------+------+-------+------+----------+\n",
            "|      2|      Jumanji (1995)|Adventure|Childre...|     1|      2|   3.5|1112486027|\n",
            "|     29|City of Lost Chil...|Adventure|Drama|F...|     1|     29|   3.5|1112484676|\n",
            "|     32|Twelve Monkeys (a...|Mystery|Sci-Fi|Th...|     1|     32|   3.5|1112484819|\n",
            "|     47|Seven (a.k.a. Se7...|    Mystery|Thriller|     1|     47|   3.5|1112484727|\n",
            "|     50|Usual Suspects, T...|Crime|Mystery|Thr...|     1|     50|   3.5|1112484580|\n",
            "|    112|Rumble in the Bro...|Action|Adventure|...|     1|    112|   3.5|1094785740|\n",
            "|    151|      Rob Roy (1995)|Action|Drama|Roma...|     1|    151|   4.0|1094785734|\n",
            "|    223|       Clerks (1994)|              Comedy|     1|    223|   4.0|1112485573|\n",
            "|    253|Interview with th...|        Drama|Horror|     1|    253|   4.0|1112484940|\n",
            "|    260|Star Wars: Episod...|Action|Adventure|...|     1|    260|   4.0|1112484826|\n",
            "|    293|Léon: The Profess...|Action|Crime|Dram...|     1|    293|   4.0|1112484703|\n",
            "|    296| Pulp Fiction (1994)|Comedy|Crime|Dram...|     1|    296|   4.0|1112484767|\n",
            "|    318|Shawshank Redempt...|         Crime|Drama|     1|    318|   4.0|1112484798|\n",
            "|    337|What's Eating Gil...|               Drama|     1|    337|   3.5|1094785709|\n",
            "|    367|    Mask, The (1994)|Action|Comedy|Cri...|     1|    367|   3.5|1112485980|\n",
            "|    541| Blade Runner (1982)|Action|Sci-Fi|Thr...|     1|    541|   4.0|1112484603|\n",
            "|    589|Terminator 2: Jud...|       Action|Sci-Fi|     1|    589|   3.5|1112485557|\n",
            "|    593|Silence of the La...|Crime|Horror|Thri...|     1|    593|   3.5|1112484661|\n",
            "|    653|  Dragonheart (1996)|Action|Adventure|...|     1|    653|   3.0|1094785691|\n",
            "|    919|Wizard of Oz, The...|Adventure|Childre...|     1|    919|   3.5|1094785621|\n",
            "+-------+--------------------+--------------------+------+-------+------+----------+\n",
            "only showing top 20 rows\n",
            "\n"
          ]
        }
      ]
    },
    {
      "cell_type": "code",
      "source": [
        "data.dropna().show()"
      ],
      "metadata": {
        "colab": {
          "base_uri": "https://localhost:8080/"
        },
        "id": "zPPgdU3i8IHj",
        "outputId": "ca3a19b5-ab11-4a18-8583-5ac7e3de34ad"
      },
      "execution_count": null,
      "outputs": [
        {
          "output_type": "stream",
          "name": "stdout",
          "text": [
            "+-----------+----------+-----------+----------+-------+\n",
            "|petalLength|petalWidth|sepalLength|sepalWidth|species|\n",
            "+-----------+----------+-----------+----------+-------+\n",
            "|        1.4|       0.2|        5.1|       3.5| setosa|\n",
            "|        1.4|       0.2|        4.9|       3.0| setosa|\n",
            "|        1.3|       0.2|        4.7|       3.2| setosa|\n",
            "|        1.5|       0.2|        4.6|       3.1| setosa|\n",
            "|        1.4|       0.2|        5.0|       3.6| setosa|\n",
            "|        1.7|       0.4|        5.4|       3.9| setosa|\n",
            "|        1.4|       0.3|        4.6|       3.4| setosa|\n",
            "|        1.5|       0.2|        5.0|       3.4| setosa|\n",
            "|        1.4|       0.2|        4.4|       2.9| setosa|\n",
            "|        1.5|       0.1|        4.9|       3.1| setosa|\n",
            "|        1.5|       0.2|        5.4|       3.7| setosa|\n",
            "|        1.6|       0.2|        4.8|       3.4| setosa|\n",
            "|        1.4|       0.1|        4.8|       3.0| setosa|\n",
            "|        1.1|       0.1|        4.3|       3.0| setosa|\n",
            "|        1.2|       0.2|        5.8|       4.0| setosa|\n",
            "|        1.5|       0.4|        5.7|       4.4| setosa|\n",
            "|        1.3|       0.4|        5.4|       3.9| setosa|\n",
            "|        1.4|       0.3|        5.1|       3.5| setosa|\n",
            "|        1.7|       0.3|        5.7|       3.8| setosa|\n",
            "|        1.5|       0.3|        5.1|       3.8| setosa|\n",
            "+-----------+----------+-----------+----------+-------+\n",
            "only showing top 20 rows\n",
            "\n"
          ]
        }
      ]
    }
  ]
}