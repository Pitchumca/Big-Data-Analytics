{
  "nbformat": 4,
  "nbformat_minor": 0,
  "metadata": {
    "colab": {
      "provenance": []
    },
    "kernelspec": {
      "name": "python3",
      "display_name": "Python 3"
    },
    "language_info": {
      "name": "python"
    }
  },
  "cells": [
    {
      "cell_type": "code",
      "execution_count": null,
      "metadata": {
        "colab": {
          "base_uri": "https://localhost:8080/"
        },
        "id": "1ptcSds9vXIZ",
        "outputId": "ef219980-7feb-4434-ba69-650ae275e19c"
      },
      "outputs": [
        {
          "output_type": "stream",
          "name": "stdout",
          "text": [
            "Collecting pyspark\n",
            "  Downloading pyspark-3.5.1.tar.gz (317.0 MB)\n",
            "\u001b[2K     \u001b[90m━━━━━━━━━━━━━━━━━━━━━━━━━━━━━━━━━━━━━━━━\u001b[0m \u001b[32m317.0/317.0 MB\u001b[0m \u001b[31m3.9 MB/s\u001b[0m eta \u001b[36m0:00:00\u001b[0m\n",
            "\u001b[?25h  Preparing metadata (setup.py) ... \u001b[?25l\u001b[?25hdone\n",
            "Requirement already satisfied: py4j==0.10.9.7 in /usr/local/lib/python3.10/dist-packages (from pyspark) (0.10.9.7)\n",
            "Building wheels for collected packages: pyspark\n",
            "  Building wheel for pyspark (setup.py) ... \u001b[?25l\u001b[?25hdone\n",
            "  Created wheel for pyspark: filename=pyspark-3.5.1-py2.py3-none-any.whl size=317488491 sha256=0bcd44a686a62d1e03a80ef4a5a05bbe25e0effc2542ff5ef45f6762affeffa6\n",
            "  Stored in directory: /root/.cache/pip/wheels/80/1d/60/2c256ed38dddce2fdd93be545214a63e02fbd8d74fb0b7f3a6\n",
            "Successfully built pyspark\n",
            "Installing collected packages: pyspark\n",
            "Successfully installed pyspark-3.5.1\n"
          ]
        }
      ],
      "source": [
        "!pip install pyspark"
      ]
    },
    {
      "cell_type": "markdown",
      "source": [
        "To perform a MapReduce operation using RDDs in Spark for the provided text file, we can follow these steps:\n",
        "\n",
        "    Read the text file into an RDD.\n",
        "    Map each line to words.\n",
        "    Map each word to a key-value pair (word, 1).\n",
        "    Reduce by key to count the occurrences of each word."
      ],
      "metadata": {
        "id": "Wa88T-rNviqR"
      }
    },
    {
      "cell_type": "code",
      "source": [
        "from pyspark import SparkContext"
      ],
      "metadata": {
        "id": "-ENt-z_JvcG7"
      },
      "execution_count": null,
      "outputs": []
    },
    {
      "cell_type": "code",
      "source": [
        "\n",
        "\n",
        "# Initialize a SparkContext\n",
        "sc = SparkContext(\"local\", \"WordCount\")\n",
        "\n",
        "# Read the text file into an RDD\n",
        "rdd = sc.textFile(\"/content/test(1).txt\")\n",
        "\n",
        "# Map each line to words, flatten the result, and map each word to a key-value pair\n",
        "word_counts = rdd.flatMap(lambda line: line.split()) \\\n",
        "                 .map(lambda word: (word, 1)) \\\n",
        "                 .reduceByKey(lambda a, b: a + b)\n",
        "\n",
        "# Collect the word counts\n",
        "word_counts_list = word_counts.collect()\n",
        "\n",
        "# Print the word counts\n",
        "for word, count in word_counts_list:\n",
        "    print(f\"{word}: {count}\")\n"
      ],
      "metadata": {
        "colab": {
          "base_uri": "https://localhost:8080/"
        },
        "id": "RpY_fWY_vk0L",
        "outputId": "8979c388-40a2-4399-eb30-5f5607c40f94"
      },
      "execution_count": null,
      "outputs": [
        {
          "output_type": "stream",
          "name": "stdout",
          "text": [
            "Project: 9\n",
            "Gutenberg’s: 9\n",
            "Alice’s: 18\n",
            "Adventures: 18\n",
            "in: 18\n",
            "Wonderland: 18\n",
            "by: 18\n",
            "Lewis: 18\n",
            "Carroll: 18\n",
            "This: 27\n",
            "eBook: 27\n",
            "is: 27\n",
            "for: 27\n",
            "the: 27\n",
            "use: 27\n",
            "of: 27\n",
            "anyone: 27\n",
            "anywhere: 27\n",
            "at: 27\n",
            "no: 27\n",
            "cost: 27\n",
            "and: 27\n",
            "with: 27\n"
          ]
        }
      ]
    }
  ]
}