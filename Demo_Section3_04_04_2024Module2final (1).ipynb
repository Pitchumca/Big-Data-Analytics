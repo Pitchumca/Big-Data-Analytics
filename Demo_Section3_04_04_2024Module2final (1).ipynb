{
  "nbformat": 4,
  "nbformat_minor": 0,
  "metadata": {
    "colab": {
      "provenance": []
    },
    "kernelspec": {
      "name": "python3",
      "display_name": "Python 3"
    },
    "language_info": {
      "name": "python"
    }
  },
  "cells": [
    {
      "cell_type": "code",
      "execution_count": null,
      "metadata": {
        "colab": {
          "base_uri": "https://localhost:8080/"
        },
        "id": "1hvrj5J6Fs4R",
        "outputId": "33c36557-3a3e-4728-f24a-04eb31492f79"
      },
      "outputs": [
        {
          "output_type": "stream",
          "name": "stdout",
          "text": [
            "result is: 80000000.0\n",
            "time is: 0.09319424629211426\n",
            "result is: 80000000.0\n",
            "time taken using for is: 8.945921182632446\n"
          ]
        }
      ],
      "source": [
        "import numpy as np\n",
        "import time\n",
        "x=np.ones(20000000)*2\n",
        "y=np.ones(20000000)*2\n",
        "start=time.time()\n",
        "result=np.sum(x*y)\n",
        "end=time.time()\n",
        "print(\"result is:\",result)\n",
        "print(\"time is:\",(end-start))\n",
        "result=0\n",
        "start=time.time()\n",
        "for i in range(20000000):\n",
        "  result=result+x[i]*y[i]\n",
        "end=time.time()\n",
        "print(\"result is:\",result)\n",
        "print(\"time taken using for is:\",(end-start))\n",
        "\n"
      ]
    },
    {
      "cell_type": "code",
      "source": [
        "#RDD and numpy can be combined for bulk computing\n",
        "mat=np.random.rand(8,1)\n",
        "print(mat)"
      ],
      "metadata": {
        "colab": {
          "base_uri": "https://localhost:8080/"
        },
        "id": "RlslWxD1MfEo",
        "outputId": "a85a6a7d-3b7a-4f3c-a3d4-5e3ea76763b7"
      },
      "execution_count": null,
      "outputs": [
        {
          "output_type": "stream",
          "name": "stdout",
          "text": [
            "[[0.08416663]\n",
            " [0.34023428]\n",
            " [0.95388069]\n",
            " [0.84471045]\n",
            " [0.52278157]\n",
            " [0.96671976]\n",
            " [0.26192486]\n",
            " [0.54170258]]\n"
          ]
        }
      ]
    },
    {
      "cell_type": "code",
      "source": [
        "mat=mat.reshape(4,-1)"
      ],
      "metadata": {
        "id": "iSnwdcVaNRKw"
      },
      "execution_count": null,
      "outputs": []
    },
    {
      "cell_type": "code",
      "source": [
        "!pip install pyspark"
      ],
      "metadata": {
        "colab": {
          "base_uri": "https://localhost:8080/"
        },
        "id": "OGc4Sw6aNeDS",
        "outputId": "88601cb5-629f-4139-fa8b-46d1db107921"
      },
      "execution_count": null,
      "outputs": [
        {
          "output_type": "stream",
          "name": "stdout",
          "text": [
            "Collecting pyspark\n",
            "  Downloading pyspark-3.5.1.tar.gz (317.0 MB)\n",
            "\u001b[2K     \u001b[90m━━━━━━━━━━━━━━━━━━━━━━━━━━━━━━━━━━━━━━━━\u001b[0m \u001b[32m317.0/317.0 MB\u001b[0m \u001b[31m2.3 MB/s\u001b[0m eta \u001b[36m0:00:00\u001b[0m\n",
            "\u001b[?25h  Preparing metadata (setup.py) ... \u001b[?25l\u001b[?25hdone\n",
            "Requirement already satisfied: py4j==0.10.9.7 in /usr/local/lib/python3.10/dist-packages (from pyspark) (0.10.9.7)\n",
            "Building wheels for collected packages: pyspark\n",
            "  Building wheel for pyspark (setup.py) ... \u001b[?25l\u001b[?25hdone\n",
            "  Created wheel for pyspark: filename=pyspark-3.5.1-py2.py3-none-any.whl size=317488491 sha256=576f5d05f34c470d8c2ace4772e5c160b5b92d5252555f781d87b14684261a1d\n",
            "  Stored in directory: /root/.cache/pip/wheels/80/1d/60/2c256ed38dddce2fdd93be545214a63e02fbd8d74fb0b7f3a6\n",
            "Successfully built pyspark\n",
            "Installing collected packages: pyspark\n",
            "Successfully installed pyspark-3.5.1\n"
          ]
        }
      ]
    },
    {
      "cell_type": "code",
      "source": [
        "from pyspark import SparkContext\n",
        "sc=SparkContext.getOrCreate()\n",
        "data_rdd=sc.parallelize(mat)\n",
        "data_rdd.collect()\n",
        "data_rdd.reduce(lambda x,y:np.add(x,y))\n",
        "\n"
      ],
      "metadata": {
        "colab": {
          "base_uri": "https://localhost:8080/"
        },
        "id": "5x_rms8CNg4t",
        "outputId": "efe6a4e3-963b-4e3e-b354-70ed09e832f5"
      },
      "execution_count": null,
      "outputs": [
        {
          "output_type": "execute_result",
          "data": {
            "text/plain": [
              "array([1.82275375, 2.69336707])"
            ]
          },
          "metadata": {},
          "execution_count": 13
        }
      ]
    },
    {
      "cell_type": "code",
      "source": [
        "#Vectorization\n",
        "#Vectors.sparse or Vectors.dense\n",
        "from pyspark.ml.linalg import Vectors\n",
        "from pyspark.sql import SparkSession\n",
        "spark=SparkSession.builder.appName(\"Vector Demo\").getOrCreate()\n",
        "size=2\n",
        "data=[(0,Vectors.dense(np.random.rand(size)),),\n",
        " (0,Vectors.dense(np.random.rand(size)),),\n",
        "  (1,Vectors.dense(np.random.rand(size)),)]"
      ],
      "metadata": {
        "id": "YJD9uqw2POYx"
      },
      "execution_count": null,
      "outputs": []
    },
    {
      "cell_type": "code",
      "source": [
        "spark_data=spark.createDataFrame(data,[\"label\",\"features\"])\n",
        "spark_data.show()"
      ],
      "metadata": {
        "colab": {
          "base_uri": "https://localhost:8080/"
        },
        "id": "VLe1zq_aQZHV",
        "outputId": "bd8a63e4-080e-41f2-ddfd-8dba470d0da4"
      },
      "execution_count": null,
      "outputs": [
        {
          "output_type": "stream",
          "name": "stdout",
          "text": [
            "+-----+--------------------+\n",
            "|label|            features|\n",
            "+-----+--------------------+\n",
            "|    0|[0.56260353209659...|\n",
            "|    0|[0.57584383225735...|\n",
            "|    1|[0.50081402519395...|\n",
            "+-----+--------------------+\n",
            "\n"
          ]
        }
      ]
    },
    {
      "cell_type": "code",
      "source": [
        "data=spark.read.options(mode=\"DROPMALFORMED\").json(\"/content/iris.json\")\n",
        "data.show()\n",
        "#convert df to rdd\n",
        "iris_rdd=data.rdd.map(lambda x:[x[-1],Vectors.dense(x[:-1])])\n",
        "iris_rdd.collect()"
      ],
      "metadata": {
        "colab": {
          "base_uri": "https://localhost:8080/"
        },
        "id": "WSWONsgLRFuz",
        "outputId": "af71a3dc-1230-4c90-8e4c-a0bdbbe95eca"
      },
      "execution_count": null,
      "outputs": [
        {
          "output_type": "stream",
          "name": "stdout",
          "text": [
            "+-----------+----------+-----------+----------+-------+\n",
            "|petalLength|petalWidth|sepalLength|sepalWidth|species|\n",
            "+-----------+----------+-----------+----------+-------+\n",
            "|        1.4|       0.2|        5.1|       3.5| setosa|\n",
            "|        1.4|       0.2|        4.9|       3.0| setosa|\n",
            "|        1.3|       0.2|        4.7|       3.2| setosa|\n",
            "|        1.5|       0.2|        4.6|       3.1| setosa|\n",
            "|        1.4|       0.2|        5.0|       3.6| setosa|\n",
            "|        1.7|       0.4|        5.4|       3.9| setosa|\n",
            "|        1.4|       0.3|        4.6|       3.4| setosa|\n",
            "|        1.5|       0.2|        5.0|       3.4| setosa|\n",
            "|        1.4|       0.2|        4.4|       2.9| setosa|\n",
            "|        1.5|       0.1|        4.9|       3.1| setosa|\n",
            "|        1.5|       0.2|        5.4|       3.7| setosa|\n",
            "|        1.6|       0.2|        4.8|       3.4| setosa|\n",
            "|        1.4|       0.1|        4.8|       3.0| setosa|\n",
            "|        1.1|       0.1|        4.3|       3.0| setosa|\n",
            "|        1.2|       0.2|        5.8|       4.0| setosa|\n",
            "|        1.5|       0.4|        5.7|       4.4| setosa|\n",
            "|        1.3|       0.4|        5.4|       3.9| setosa|\n",
            "|        1.4|       0.3|        5.1|       3.5| setosa|\n",
            "|        1.7|       0.3|        5.7|       3.8| setosa|\n",
            "|        1.5|       0.3|        5.1|       3.8| setosa|\n",
            "+-----------+----------+-----------+----------+-------+\n",
            "only showing top 20 rows\n",
            "\n"
          ]
        },
        {
          "output_type": "execute_result",
          "data": {
            "text/plain": [
              "[['setosa', DenseVector([1.4, 0.2, 5.1, 3.5])],\n",
              " ['setosa', DenseVector([1.4, 0.2, 4.9, 3.0])],\n",
              " ['setosa', DenseVector([1.3, 0.2, 4.7, 3.2])],\n",
              " ['setosa', DenseVector([1.5, 0.2, 4.6, 3.1])],\n",
              " ['setosa', DenseVector([1.4, 0.2, 5.0, 3.6])],\n",
              " ['setosa', DenseVector([1.7, 0.4, 5.4, 3.9])],\n",
              " ['setosa', DenseVector([1.4, 0.3, 4.6, 3.4])],\n",
              " ['setosa', DenseVector([1.5, 0.2, 5.0, 3.4])],\n",
              " ['setosa', DenseVector([1.4, 0.2, 4.4, 2.9])],\n",
              " ['setosa', DenseVector([1.5, 0.1, 4.9, 3.1])],\n",
              " ['setosa', DenseVector([1.5, 0.2, 5.4, 3.7])],\n",
              " ['setosa', DenseVector([1.6, 0.2, 4.8, 3.4])],\n",
              " ['setosa', DenseVector([1.4, 0.1, 4.8, 3.0])],\n",
              " ['setosa', DenseVector([1.1, 0.1, 4.3, 3.0])],\n",
              " ['setosa', DenseVector([1.2, 0.2, 5.8, 4.0])],\n",
              " ['setosa', DenseVector([1.5, 0.4, 5.7, 4.4])],\n",
              " ['setosa', DenseVector([1.3, 0.4, 5.4, 3.9])],\n",
              " ['setosa', DenseVector([1.4, 0.3, 5.1, 3.5])],\n",
              " ['setosa', DenseVector([1.7, 0.3, 5.7, 3.8])],\n",
              " ['setosa', DenseVector([1.5, 0.3, 5.1, 3.8])],\n",
              " ['setosa', DenseVector([1.7, 0.2, 5.4, 3.4])],\n",
              " ['setosa', DenseVector([1.5, 0.4, 5.1, 3.7])],\n",
              " ['setosa', DenseVector([1.0, 0.2, 4.6, 3.6])],\n",
              " ['setosa', DenseVector([1.7, 0.5, 5.1, 3.3])],\n",
              " ['setosa', DenseVector([1.9, 0.2, 4.8, 3.4])],\n",
              " ['setosa', DenseVector([1.6, 0.2, 5.0, 3.0])],\n",
              " ['setosa', DenseVector([1.6, 0.4, 5.0, 3.4])],\n",
              " ['setosa', DenseVector([1.5, 0.2, 5.2, 3.5])],\n",
              " ['setosa', DenseVector([1.4, 0.2, 5.2, 3.4])],\n",
              " ['setosa', DenseVector([1.6, 0.2, 4.7, 3.2])],\n",
              " ['setosa', DenseVector([1.6, 0.2, 4.8, 3.1])],\n",
              " ['setosa', DenseVector([1.5, 0.4, 5.4, 3.4])],\n",
              " ['setosa', DenseVector([1.5, 0.1, 5.2, 4.1])],\n",
              " ['setosa', DenseVector([1.4, 0.2, 5.5, 4.2])],\n",
              " ['setosa', DenseVector([1.5, 0.2, 4.9, 3.1])],\n",
              " ['setosa', DenseVector([1.2, 0.2, 5.0, 3.2])],\n",
              " ['setosa', DenseVector([1.3, 0.2, 5.5, 3.5])],\n",
              " ['setosa', DenseVector([1.4, 0.1, 4.9, 3.6])],\n",
              " ['setosa', DenseVector([1.3, 0.2, 4.4, 3.0])],\n",
              " ['setosa', DenseVector([1.5, 0.2, 5.1, 3.4])],\n",
              " ['setosa', DenseVector([1.3, 0.3, 5.0, 3.5])],\n",
              " ['setosa', DenseVector([1.3, 0.3, 4.5, 2.3])],\n",
              " ['setosa', DenseVector([1.3, 0.2, 4.4, 3.2])],\n",
              " ['setosa', DenseVector([1.6, 0.6, 5.0, 3.5])],\n",
              " ['setosa', DenseVector([1.9, 0.4, 5.1, 3.8])],\n",
              " ['setosa', DenseVector([1.4, 0.3, 4.8, 3.0])],\n",
              " ['setosa', DenseVector([1.6, 0.2, 5.1, 3.8])],\n",
              " ['setosa', DenseVector([1.4, 0.2, 4.6, 3.2])],\n",
              " ['setosa', DenseVector([1.5, 0.2, 5.3, 3.7])],\n",
              " ['setosa', DenseVector([1.4, 0.2, 5.0, 3.3])],\n",
              " ['versicolor', DenseVector([4.7, 1.4, 7.0, 3.2])],\n",
              " ['versicolor', DenseVector([4.5, 1.5, 6.4, 3.2])],\n",
              " ['versicolor', DenseVector([4.9, 1.5, 6.9, 3.1])],\n",
              " ['versicolor', DenseVector([4.0, 1.3, 5.5, 2.3])],\n",
              " ['versicolor', DenseVector([4.6, 1.5, 6.5, 2.8])],\n",
              " ['versicolor', DenseVector([4.5, 1.3, 5.7, 2.8])],\n",
              " ['versicolor', DenseVector([4.7, 1.6, 6.3, 3.3])],\n",
              " ['versicolor', DenseVector([3.3, 1.0, 4.9, 2.4])],\n",
              " ['versicolor', DenseVector([4.6, 1.3, 6.6, 2.9])],\n",
              " ['versicolor', DenseVector([3.9, 1.4, 5.2, 2.7])],\n",
              " ['versicolor', DenseVector([3.5, 1.0, 5.0, 2.0])],\n",
              " ['versicolor', DenseVector([4.2, 1.5, 5.9, 3.0])],\n",
              " ['versicolor', DenseVector([4.0, 1.0, 6.0, 2.2])],\n",
              " ['versicolor', DenseVector([4.7, 1.4, 6.1, 2.9])],\n",
              " ['versicolor', DenseVector([3.6, 1.3, 5.6, 2.9])],\n",
              " ['versicolor', DenseVector([4.4, 1.4, 6.7, 3.1])],\n",
              " ['versicolor', DenseVector([4.5, 1.5, 5.6, 3.0])],\n",
              " ['versicolor', DenseVector([4.1, 1.0, 5.8, 2.7])],\n",
              " ['versicolor', DenseVector([4.5, 1.5, 6.2, 2.2])],\n",
              " ['versicolor', DenseVector([3.9, 1.1, 5.6, 2.5])],\n",
              " ['versicolor', DenseVector([4.8, 1.8, 5.9, 3.2])],\n",
              " ['versicolor', DenseVector([4.0, 1.3, 6.1, 2.8])],\n",
              " ['versicolor', DenseVector([4.9, 1.5, 6.3, 2.5])],\n",
              " ['versicolor', DenseVector([4.7, 1.2, 6.1, 2.8])],\n",
              " ['versicolor', DenseVector([4.3, 1.3, 6.4, 2.9])],\n",
              " ['versicolor', DenseVector([4.4, 1.4, 6.6, 3.0])],\n",
              " ['versicolor', DenseVector([4.8, 1.4, 6.8, 2.8])],\n",
              " ['versicolor', DenseVector([5.0, 1.7, 6.7, 3.0])],\n",
              " ['versicolor', DenseVector([4.5, 1.5, 6.0, 2.9])],\n",
              " ['versicolor', DenseVector([3.5, 1.0, 5.7, 2.6])],\n",
              " ['versicolor', DenseVector([3.8, 1.1, 5.5, 2.4])],\n",
              " ['versicolor', DenseVector([3.7, 1.0, 5.5, 2.4])],\n",
              " ['versicolor', DenseVector([3.9, 1.2, 5.8, 2.7])],\n",
              " ['versicolor', DenseVector([5.1, 1.6, 6.0, 2.7])],\n",
              " ['versicolor', DenseVector([4.5, 1.5, 5.4, 3.0])],\n",
              " ['versicolor', DenseVector([4.5, 1.6, 6.0, 3.4])],\n",
              " ['versicolor', DenseVector([4.7, 1.5, 6.7, 3.1])],\n",
              " ['versicolor', DenseVector([4.4, 1.3, 6.3, 2.3])],\n",
              " ['versicolor', DenseVector([4.1, 1.3, 5.6, 3.0])],\n",
              " ['versicolor', DenseVector([4.0, 1.3, 5.5, 2.5])],\n",
              " ['versicolor', DenseVector([4.4, 1.2, 5.5, 2.6])],\n",
              " ['versicolor', DenseVector([4.6, 1.4, 6.1, 3.0])],\n",
              " ['versicolor', DenseVector([4.0, 1.2, 5.8, 2.6])],\n",
              " ['versicolor', DenseVector([3.3, 1.0, 5.0, 2.3])],\n",
              " ['versicolor', DenseVector([4.2, 1.3, 5.6, 2.7])],\n",
              " ['versicolor', DenseVector([4.2, 1.2, 5.7, 3.0])],\n",
              " ['versicolor', DenseVector([4.2, 1.3, 5.7, 2.9])],\n",
              " ['versicolor', DenseVector([4.3, 1.3, 6.2, 2.9])],\n",
              " ['versicolor', DenseVector([3.0, 1.1, 5.1, 2.5])],\n",
              " ['versicolor', DenseVector([4.1, 1.3, 5.7, 2.8])],\n",
              " ['virginica', DenseVector([6.0, 2.5, 6.3, 3.3])],\n",
              " ['virginica', DenseVector([5.1, 1.9, 5.8, 2.7])],\n",
              " ['virginica', DenseVector([5.9, 2.1, 7.1, 3.0])],\n",
              " ['virginica', DenseVector([5.6, 1.8, 6.3, 2.9])],\n",
              " ['virginica', DenseVector([5.8, 2.2, 6.5, 3.0])],\n",
              " ['virginica', DenseVector([6.6, 2.1, 7.6, 3.0])],\n",
              " ['virginica', DenseVector([4.5, 1.7, 4.9, 2.5])],\n",
              " ['virginica', DenseVector([6.3, 1.8, 7.3, 2.9])],\n",
              " ['virginica', DenseVector([5.8, 1.8, 6.7, 2.5])],\n",
              " ['virginica', DenseVector([6.1, 2.5, 7.2, 3.6])],\n",
              " ['virginica', DenseVector([5.1, 2.0, 6.5, 3.2])],\n",
              " ['virginica', DenseVector([5.3, 1.9, 6.4, 2.7])],\n",
              " ['virginica', DenseVector([5.5, 2.1, 6.8, 3.0])],\n",
              " ['virginica', DenseVector([5.0, 2.0, 5.7, 2.5])],\n",
              " ['virginica', DenseVector([5.1, 2.4, 5.8, 2.8])],\n",
              " ['virginica', DenseVector([5.3, 2.3, 6.4, 3.2])],\n",
              " ['virginica', DenseVector([5.5, 1.8, 6.5, 3.0])],\n",
              " ['virginica', DenseVector([6.7, 2.2, 7.7, 3.8])],\n",
              " ['virginica', DenseVector([6.9, 2.3, 7.7, 2.6])],\n",
              " ['virginica', DenseVector([5.0, 1.5, 6.0, 2.2])],\n",
              " ['virginica', DenseVector([5.7, 2.3, 6.9, 3.2])],\n",
              " ['virginica', DenseVector([4.9, 2.0, 5.6, 2.8])],\n",
              " ['virginica', DenseVector([6.7, 2.0, 7.7, 2.8])],\n",
              " ['virginica', DenseVector([4.9, 1.8, 6.3, 2.7])],\n",
              " ['virginica', DenseVector([5.7, 2.1, 6.7, 3.3])],\n",
              " ['virginica', DenseVector([6.0, 1.8, 7.2, 3.2])],\n",
              " ['virginica', DenseVector([4.8, 1.8, 6.2, 2.8])],\n",
              " ['virginica', DenseVector([4.9, 1.8, 6.1, 3.0])],\n",
              " ['virginica', DenseVector([5.6, 2.1, 6.4, 2.8])],\n",
              " ['virginica', DenseVector([5.8, 1.6, 7.2, 3.0])],\n",
              " ['virginica', DenseVector([6.1, 1.9, 7.4, 2.8])],\n",
              " ['virginica', DenseVector([6.4, 2.0, 7.9, 3.8])],\n",
              " ['virginica', DenseVector([5.6, 2.2, 6.4, 2.8])],\n",
              " ['virginica', DenseVector([5.1, 1.5, 6.3, 2.8])],\n",
              " ['virginica', DenseVector([5.6, 1.4, 6.1, 2.6])],\n",
              " ['virginica', DenseVector([6.1, 2.3, 7.7, 3.0])],\n",
              " ['virginica', DenseVector([5.6, 2.4, 6.3, 3.4])],\n",
              " ['virginica', DenseVector([5.5, 1.8, 6.4, 3.1])],\n",
              " ['virginica', DenseVector([4.8, 1.8, 6.0, 3.0])],\n",
              " ['virginica', DenseVector([5.4, 2.1, 6.9, 3.1])],\n",
              " ['virginica', DenseVector([5.6, 2.4, 6.7, 3.1])],\n",
              " ['virginica', DenseVector([5.1, 2.3, 6.9, 3.1])],\n",
              " ['virginica', DenseVector([5.1, 1.9, 5.8, 2.7])],\n",
              " ['virginica', DenseVector([5.9, 2.3, 6.8, 3.2])],\n",
              " ['virginica', DenseVector([5.7, 2.5, 6.7, 3.3])],\n",
              " ['virginica', DenseVector([5.2, 2.3, 6.7, 3.0])],\n",
              " ['virginica', DenseVector([5.0, 1.9, 6.3, 2.5])],\n",
              " ['virginica', DenseVector([5.2, 2.0, 6.5, 3.0])],\n",
              " ['virginica', DenseVector([5.4, 2.3, 6.2, 3.4])],\n",
              " ['virginica', DenseVector([5.1, 1.8, 5.9, 3.0])]]"
            ]
          },
          "metadata": {},
          "execution_count": 20
        }
      ]
    },
    {
      "cell_type": "code",
      "source": [
        "#cluster configuration\n",
        "spark.stop()\n"
      ],
      "metadata": {
        "id": "ycnd_aU_S5PR"
      },
      "execution_count": null,
      "outputs": []
    },
    {
      "cell_type": "code",
      "source": [
        "spark=SparkSession.builder.master(\"local[*]\").config(\"spark.executor.memory\",\"2g\").config(\"spark.executor.cores\",2).config(\"spark.shuffle.service.enabled\",\"true\").config(\"spark.dynamicAllocation.enabled\",\"true\").getOrCreate()"
      ],
      "metadata": {
        "id": "buouny_RUpHG"
      },
      "execution_count": null,
      "outputs": []
    },
    {
      "cell_type": "code",
      "source": [
        "from pyspark.ml.linalg import Vectors,Matrices\n",
        "#create a vector Dense with value 12,45,67\n",
        "data_dense=Vectors.dense([12,45,67])\n",
        "print(data_dense)\n",
        "data_sparse=Vectors.sparse(3,{0:1})\n",
        "print(data_sparse)\n",
        "dense_matrix=Matrices.dense(3,2,[22,21,33,34,35,35])\n",
        "print(dense_matrix)\n",
        "#colptr should be of size 3\n",
        "#sparse(no.of rows,no.of cols,colptr,rowindex,data)\n",
        "dense_sparse=Matrices.sparse(2,2,[0,1,2],[1,0],[2,3])\n",
        "print(dense_sparse)"
      ],
      "metadata": {
        "colab": {
          "base_uri": "https://localhost:8080/"
        },
        "id": "cPtv8Nh7XM1S",
        "outputId": "dc7f71a0-8c37-48f2-f7a6-9f9b3bcaa405"
      },
      "execution_count": null,
      "outputs": [
        {
          "output_type": "stream",
          "name": "stdout",
          "text": [
            "[12.0,45.0,67.0]\n",
            "(3,[0],[1.0])\n",
            "DenseMatrix([[22., 34.],\n",
            "             [21., 35.],\n",
            "             [33., 35.]])\n",
            "2 X 2 CSCMatrix\n",
            "(1,0) 2.0\n",
            "(0,1) 3.0\n"
          ]
        }
      ]
    },
    {
      "cell_type": "code",
      "source": [],
      "metadata": {
        "id": "JfsayATuXjg3"
      },
      "execution_count": null,
      "outputs": []
    }
  ]
}